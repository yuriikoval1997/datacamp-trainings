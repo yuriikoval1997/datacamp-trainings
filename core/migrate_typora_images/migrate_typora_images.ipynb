{
 "cells": [
  {
   "cell_type": "code",
   "execution_count": 1,
   "metadata": {},
   "outputs": [],
   "source": [
    "import os\n",
    "import re\n",
    "import shutil"
   ]
  },
  {
   "cell_type": "code",
   "execution_count": 2,
   "metadata": {},
   "outputs": [],
   "source": [
    "regex_image = r'(/home/yurii/\\.config/Typora/typora-user-images/[^)]+)'\n",
    "pattern_image = re.compile(regex_image)"
   ]
  },
  {
   "cell_type": "code",
   "execution_count": 3,
   "metadata": {},
   "outputs": [],
   "source": [
    "filename = 'Graph Theory.md'"
   ]
  },
  {
   "cell_type": "code",
   "execution_count": 4,
   "metadata": {},
   "outputs": [],
   "source": [
    "directory = 'Graph Theory.assets'\n",
    "if not os.path.exists(directory):\n",
    "    os.makedirs(directory)"
   ]
  },
  {
   "cell_type": "code",
   "execution_count": 5,
   "metadata": {},
   "outputs": [
    {
     "name": "stdout",
     "output_type": "stream",
     "text": [
      "Copying file from \"/home/yurii/.config/Typora/typora-user-images/image-20200321153112980.png\" to \"Graph Theory.assets/image-20200321153112980.png\"\n",
      "Copying file from \"/home/yurii/.config/Typora/typora-user-images/image-20200321153202644.png\" to \"Graph Theory.assets/image-20200321153202644.png\"\n",
      "Copying file from \"/home/yurii/.config/Typora/typora-user-images/image-20200321153236232.png\" to \"Graph Theory.assets/image-20200321153236232.png\"\n",
      "Copying file from \"/home/yurii/.config/Typora/typora-user-images/image-20200321154422884.png\" to \"Graph Theory.assets/image-20200321154422884.png\"\n",
      "Copying file from \"/home/yurii/.config/Typora/typora-user-images/image-20200321154618337.png\" to \"Graph Theory.assets/image-20200321154618337.png\"\n",
      "Copying file from \"/home/yurii/.config/Typora/typora-user-images/image-20200321154944566.png\" to \"Graph Theory.assets/image-20200321154944566.png\"\n",
      "Copying file from \"/home/yurii/.config/Typora/typora-user-images/image-20200321155006895.png\" to \"Graph Theory.assets/image-20200321155006895.png\"\n"
     ]
    }
   ],
   "source": [
    "new_lines = []\n",
    "with open(filename, 'r') as file:\n",
    "    for line in file:\n",
    "        matches = pattern_image.finditer(line)\n",
    "        new_line = line\n",
    "        for match in matches:\n",
    "            image_path = match.group()\n",
    "            image_name = os.path.basename(image_path)\n",
    "            new_image_path = os.path.join(directory, image_name)\n",
    "            shutil.copyfile(image_path, new_image_path)\n",
    "            print('Copying file from \"{}\" to \"{}\"'.format(image_path, new_image_path))\n",
    "            \n",
    "            new_line = re.sub(\n",
    "                r'!\\[[\\w.-]+\\]\\({}\\)'.format(image_path),\n",
    "                '![{}]({})'.format(image_name, new_image_path),\n",
    "                new_line\n",
    "            )\n",
    "        new_lines.append(new_line)"
   ]
  },
  {
   "cell_type": "code",
   "execution_count": 6,
   "metadata": {},
   "outputs": [],
   "source": [
    "with open('new_Graph Theory.md', 'w') as file:\n",
    "    for line in new_lines:\n",
    "        file.write(line)"
   ]
  },
  {
   "cell_type": "code",
   "execution_count": null,
   "metadata": {},
   "outputs": [],
   "source": []
  }
 ],
 "metadata": {
  "kernelspec": {
   "display_name": "Python 3",
   "language": "python",
   "name": "python3"
  },
  "language_info": {
   "codemirror_mode": {
    "name": "ipython",
    "version": 3
   },
   "file_extension": ".py",
   "mimetype": "text/x-python",
   "name": "python",
   "nbconvert_exporter": "python",
   "pygments_lexer": "ipython3",
   "version": "3.7.4"
  }
 },
 "nbformat": 4,
 "nbformat_minor": 2
}
