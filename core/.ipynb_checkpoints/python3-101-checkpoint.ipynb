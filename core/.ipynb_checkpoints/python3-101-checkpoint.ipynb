{
 "cells": [
  {
   "cell_type": "code",
   "execution_count": 8,
   "metadata": {},
   "outputs": [
    {
     "name": "stdout",
     "output_type": "stream",
     "text": [
      "0\n"
     ]
    },
    {
     "data": {
      "text/plain": [
       "1"
      ]
     },
     "execution_count": 8,
     "metadata": {},
     "output_type": "execute_result"
    }
   ],
   "source": [
    "# Python 3 have 3 scopes: buildin, global, nonlocal, and local\n",
    "\n",
    "# If you want to mutate a variable of global score, you should use gobal operator\n",
    "tmp = 0\n",
    "\n",
    "\n",
    "def mutator():\n",
    "    global tmp\n",
    "    print(tmp)\n",
    "    tmp += 1\n",
    "    \n",
    "\n",
    "mutator()\n",
    "tmp"
   ]
  },
  {
   "cell_type": "code",
   "execution_count": 9,
   "metadata": {},
   "outputs": [
    {
     "name": "stdout",
     "output_type": "stream",
     "text": [
      "2\n"
     ]
    }
   ],
   "source": [
    "def closure_func():\n",
    "    n = 0\n",
    "    def inner_mutator():\n",
    "        nonlocal n\n",
    "        n = 2\n",
    "    inner_mutator()\n",
    "    print(n)\n",
    "\n",
    "    \n",
    "closure_func()"
   ]
  },
  {
   "cell_type": "code",
   "execution_count": 12,
   "metadata": {},
   "outputs": [
    {
     "name": "stdout",
     "output_type": "stream",
     "text": [
      "1, 2, 3, "
     ]
    }
   ],
   "source": [
    "# varargs\n",
    "def variable_args(*args):\n",
    "    for el in args:\n",
    "        print(el, end=', ')\n",
    "        \n",
    "\n",
    "variable_args(1, 2, 3)"
   ]
  },
  {
   "cell_type": "code",
   "execution_count": 14,
   "metadata": {},
   "outputs": [
    {
     "name": "stdout",
     "output_type": "stream",
     "text": [
      "\"key\": \"a\", value: \"1\"\n",
      "\"key\": \"b\", value: \"2\"\n",
      "\"key\": \"c\", value: \"3\"\n"
     ]
    }
   ],
   "source": [
    "# kwargs\n",
    "def kwargs_func(**kwargs):\n",
    "    for key, value in kwargs.items():\n",
    "        print('\"key\": \"{}\", value: \"{}\"'.format(key, value))\n",
    "        \n",
    "\n",
    "kwargs_func(a=1, b=2, c=3)"
   ]
  },
  {
   "cell_type": "code",
   "execution_count": 24,
   "metadata": {},
   "outputs": [
    {
     "name": "stdout",
     "output_type": "stream",
     "text": [
      "Mandatory arg: 100\n",
      "Default arg: 1\n",
      "Varargs: (2, 3)\n",
      "kwargs: {'d': 3, 'e': 4}\n",
      "\n",
      "1\n",
      "3\n"
     ]
    }
   ],
   "source": [
    "# All together\n",
    "def all_together(a, b=0, *args, **kwargs):\n",
    "    print('Mandatory arg:', a)\n",
    "    print('Default arg:', b)\n",
    "    print('Varargs:', args)\n",
    "    print('kwargs:', kwargs)\n",
    "    \n",
    "    \n",
    "all_together(100, 1, 2, 3, d=3, e=4)\n",
    "# all_together(100, b=1, 2, 3, d=3, e=4) - syntax error, if you use **kwargs, \n",
    "#                                          names parameters must always be at the end"
   ]
  },
  {
   "cell_type": "code",
   "execution_count": 25,
   "metadata": {},
   "outputs": [
    {
     "name": "stdout",
     "output_type": "stream",
     "text": [
      "1\n",
      "3\n"
     ]
    }
   ],
   "source": [
    "# kwargs parameters must always be at the end\n",
    "def default_param_fun(a, b=1):\n",
    "    print(a)\n",
    "    print(b)\n",
    "    \n",
    "\n",
    "default_param_fun(a=1, b=3)"
   ]
  },
  {
   "cell_type": "code",
   "execution_count": 1,
   "metadata": {},
   "outputs": [
    {
     "name": "stdout",
     "output_type": "stream",
     "text": [
      "Index is 0, element is 1\n",
      "Index is 1, element is 2\n",
      "Index is 2, element is 3\n",
      "Index is 3, element is 4\n"
     ]
    }
   ],
   "source": [
    "lst = [1, 2, 3, 4]\n",
    "for i, el in enumerate(lst):\n",
    "    print('Index is ' + str(i) + ', element is ' + str(el))"
   ]
  },
  {
   "cell_type": "code",
   "execution_count": 2,
   "metadata": {},
   "outputs": [
    {
     "name": "stdout",
     "output_type": "stream",
     "text": [
      "<class 'zip'>\n",
      "zipped list:  [('Country', ['United States', 'Soviet Union', 'United Kingdom']), ('Total', [1118, 473, 273])]\n",
      "\n",
      "dictionary:  {'Country': ['United States', 'Soviet Union', 'United Kingdom'], 'Total': [1118, 473, 273]}\n"
     ]
    }
   ],
   "source": [
    "# Using zip methond\n",
    "keys = ['Country', 'Total']\n",
    "values = [['United States', 'Soviet Union', 'United Kingdom'], [1118, 473, 273]]\n",
    "\n",
    "# zip returns a generator, so if you want to use it, you have to wrap it with list\n",
    "zipped = zip(keys, values)\n",
    "print(type(zipped))\n",
    "zipped = list(zipped)\n",
    "print('zipped list: ', zipped)\n",
    "print()\n",
    "\n",
    "dictionary = dict(list(zipped))\n",
    "print('dictionary: ', dictionary)"
   ]
  },
  {
   "cell_type": "code",
   "execution_count": 3,
   "metadata": {},
   "outputs": [
    {
     "name": "stdout",
     "output_type": "stream",
     "text": [
      "<class 'NoneType'>\n",
      "<class 'type'>\n"
     ]
    }
   ],
   "source": [
    "print(type(None))\n",
    "print(type(type('')))"
   ]
  },
  {
   "cell_type": "markdown",
   "metadata": {},
   "source": [
    "# OOP"
   ]
  },
  {
   "cell_type": "code",
   "execution_count": 4,
   "metadata": {},
   "outputs": [
    {
     "name": "stdout",
     "output_type": "stream",
     "text": [
      "I am a customer Karl\n",
      "Hi from classmethod!\n",
      "<__main__.Customer object at 0x7f8c106cd210>\n"
     ]
    }
   ],
   "source": [
    "class Customer(object):\n",
    "    \n",
    "    MIN_SALARY = 500\n",
    "    \n",
    "    @classmethod\n",
    "    def static_like_in_java(cls):\n",
    "        \"\"\"\n",
    "        cls - refers to the class\n",
    "        \"\"\"\n",
    "        print('Hi from classmethod!')\n",
    "        return cls('Defaul Name', 9999) # alternative constructor\n",
    "    \n",
    "    def __init__(self, name, salary=0):\n",
    "        object.__init__(self) # call to a super class's contructor\n",
    "        self.name = name\n",
    "        if salary < Customer.MIN_SALARY:\n",
    "            salary = Customer.MIN_SALARY\n",
    "        self.salary = salary\n",
    "    \n",
    "    def identify(self):\n",
    "        print('I am a customer', self.name)\n",
    "\n",
    "\n",
    "c1 = Customer('Karl')\n",
    "c1.identify()\n",
    "Customer.static_like_in_java()\n",
    "print(c1)"
   ]
  },
  {
   "cell_type": "code",
   "execution_count": 5,
   "metadata": {},
   "outputs": [
    {
     "name": "stdout",
     "output_type": "stream",
     "text": [
      "asdf\n",
      "500\n",
      "123\n"
     ]
    }
   ],
   "source": [
    "c1.new_field = 'asdf'\n",
    "print(c1.new_field)\n",
    "\n",
    "c1.MIN_SALARY = 123 # this will create a new instance field instead of modifying existing one\n",
    "print(Customer.MIN_SALARY)\n",
    "print(c1.MIN_SALARY)"
   ]
  },
  {
   "cell_type": "markdown",
   "metadata": {},
   "source": [
    "## Polimorphism\n",
    "Unlike in Java, Python allows do change argument list in subclasses when overriding a method.\n",
    "**Though it is highly recommended not to remove existent arguments and make new arguments optional!**"
   ]
  },
  {
   "cell_type": "code",
   "execution_count": 6,
   "metadata": {},
   "outputs": [
    {
     "name": "stdout",
     "output_type": "stream",
     "text": [
      "79550.0\n",
      "81610.0\n",
      "12000\n"
     ]
    }
   ],
   "source": [
    "class Employee:\n",
    "    def __init__(self, name, salary=30000):\n",
    "        self.name = name\n",
    "        self.salary = salary\n",
    "\n",
    "    def give_raise(self, amount):\n",
    "        self.salary += amount\n",
    "    \n",
    "    def _protected_method():\n",
    "        print('Hello from a protected method')\n",
    "        \n",
    "    def __private_method():\n",
    "        \"\"\"\n",
    "        You cannot override private method in subclasses. If you do, it will be simple shadowing\n",
    "        \"\"\"\n",
    "        print('Hello from a private method')\n",
    "\n",
    "\n",
    "class Manager(Employee):\n",
    "    def display(self):\n",
    "        print(\"Manager \", self.name)\n",
    "\n",
    "    def __init__(self, name, salary=50000, project=None):\n",
    "        Employee.__init__(self, name, salary)\n",
    "        self.project = project\n",
    "\n",
    "    # Add a give_raise method\n",
    "    def give_raise(self, amount, bonus=1.05):\n",
    "        Employee.give_raise(self, amount * bonus)\n",
    "    \n",
    "mngr = Manager(\"Ashta Dunbar\", 78500)\n",
    "mngr.give_raise(1000)\n",
    "print(mngr.salary)\n",
    "mngr.give_raise(2000, bonus=1.03)\n",
    "print(mngr.salary)\n",
    "\n",
    "emp = Manager('My Manager', 10000)\n",
    "emp.give_raise(1000, 2)\n",
    "print(emp.salary)"
   ]
  },
  {
   "cell_type": "code",
   "execution_count": 7,
   "metadata": {},
   "outputs": [],
   "source": [
    "class Tmp:\n",
    "    \n",
    "    def m1(self, a):\n",
    "        pass\n",
    "    \n",
    "    # Simply shadows first declaration. Overloading doesn't work in Python\n",
    "    def m1(self, a, b):\n",
    "        pass"
   ]
  },
  {
   "cell_type": "markdown",
   "metadata": {},
   "source": [
    "### Replacing self with different object\n",
    "Since in python self is defined as explicitly, you can change it with another object "
   ]
  },
  {
   "cell_type": "code",
   "execution_count": 8,
   "metadata": {},
   "outputs": [],
   "source": [
    "# Import pandas as pd\n",
    "import pandas as pd\n",
    "\n",
    "# Define LoggedDF inherited from pd.DataFrame and add the constructor\n",
    "class LoggedDF(pd.DataFrame):\n",
    "  \n",
    "    def __init__(self, *args, **kwargs):\n",
    "        pd.DataFrame.__init__(self, *args, **kwargs)\n",
    "        self.created_at = datetime.today()\n",
    "    \n",
    "    def to_csv(self, *args, **kwargs):\n",
    "        # Copy self to a temporary DataFrame\n",
    "        temp = self.copy()\n",
    "    \n",
    "        # Create a new column filled with self.created at\n",
    "        temp[\"created_at\"] = self.created_at\n",
    "    \n",
    "        # !!! Call pd.DataFrame.to_csv on temp with *args and **kwargs\n",
    "        pd.DataFrame.to_csv(temp, *args, **kwargs)\n",
    "        \n",
    "        # OR\n",
    "#         temp.to_csv(*args, **kwargs)"
   ]
  },
  {
   "cell_type": "markdown",
   "metadata": {},
   "source": [
    "### Gotchas"
   ]
  },
  {
   "cell_type": "markdown",
   "metadata": {},
   "source": [
    "* Python always calls the child's `__eq__` method when comparing a child object to a parent object."
   ]
  },
  {
   "cell_type": "code",
   "execution_count": 9,
   "metadata": {},
   "outputs": [
    {
     "name": "stdout",
     "output_type": "stream",
     "text": [
      "Child's __eq__() called\n"
     ]
    },
    {
     "data": {
      "text/plain": [
       "True"
      ]
     },
     "execution_count": 9,
     "metadata": {},
     "output_type": "execute_result"
    }
   ],
   "source": [
    "class Parent:\n",
    "    def __eq__(self, other):\n",
    "        print(\"Parent's __eq__() called\")\n",
    "        return True\n",
    "\n",
    "class Child(Parent):\n",
    "    def __eq__(self, other):\n",
    "        print(\"Child's __eq__() called\")\n",
    "        return True\n",
    "    \n",
    "p = Parent()\n",
    "c = Child()\n",
    "\n",
    "p == c "
   ]
  },
  {
   "cell_type": "markdown",
   "metadata": {},
   "source": [
    "* `__str__`- *string representation* shows how object look\n",
    "* `__repr__` - *reproducible representation* shows how to create an object. It's a fallback for print function when `__str__` is not implemented"
   ]
  },
  {
   "cell_type": "code",
   "execution_count": 10,
   "metadata": {},
   "outputs": [
    {
     "name": "stdout",
     "output_type": "stream",
     "text": [
      "[1 2 3]\n",
      "array([1, 2, 3])\n"
     ]
    }
   ],
   "source": [
    "import numpy as np\n",
    "\n",
    "print(np.array([1, 2, 3]).__str__())\n",
    "print(np.array([1, 2, 3]).__repr__())"
   ]
  },
  {
   "cell_type": "markdown",
   "metadata": {},
   "source": [
    "### Property decorator\n",
    "Methods kinda getters and setters in JavaScript that allow you to modify behaviour when you change or get a property directly\n",
    "\n",
    "to implement getters, setters, and deleters attribute have to be protected"
   ]
  },
  {
   "cell_type": "code",
   "execution_count": 11,
   "metadata": {},
   "outputs": [
    {
     "name": "stdout",
     "output_type": "stream",
     "text": [
      "ValueError is caught\n",
      "Salary attribute is deleted!\n",
      "Salary attribute is deleted!\n"
     ]
    }
   ],
   "source": [
    "class Employee:\n",
    "    def __init__(self, name, salary):\n",
    "        self.name = name\n",
    "        self._salary = salary\n",
    "    \n",
    "    @property\n",
    "    def salary(self):\n",
    "        \"\"\"\n",
    "        `getter` name have to be the same as property name!\n",
    "        \"\"\"\n",
    "        return self._salary\n",
    "    \n",
    "    @salary.setter\n",
    "    def salary(self, salary):\n",
    "        \"\"\"\n",
    "        `setter` name have to be the same as property name!\n",
    "        If you define only a getter, and won't define setter, property will be read only\n",
    "        \"\"\"\n",
    "        if salary < 0:\n",
    "            raise ValueError('Salary cannot be less than 0')\n",
    "        self._salary = salary\n",
    "        \n",
    "    @salary.deleter\n",
    "    def salary(self):\n",
    "        print('Salary attribute is deleted!')\n",
    "        \n",
    "    # Won't work, because name attr doen't start with undescore\n",
    "#     @name.deleter\n",
    "#     def name(self):\n",
    "#         print('Name attribute is deleted')\n",
    "        \n",
    "\n",
    "emp = Employee('Noob', 1000)\n",
    "try:\n",
    "    emp.salary = -1\n",
    "except ValueError:\n",
    "    print('ValueError is caught')\n",
    "\n",
    "# del is more explicit and efficient and delattr() allows dynamic attribute deleting.\n",
    "del emp.salary\n",
    "\n",
    "emp = Employee('Scorpion', 2000)\n",
    "delattr(emp, 'salary')"
   ]
  },
  {
   "cell_type": "markdown",
   "metadata": {},
   "source": [
    "## Analysing runtime"
   ]
  },
  {
   "cell_type": "code",
   "execution_count": 12,
   "metadata": {},
   "outputs": [],
   "source": [
    "import numpy as np"
   ]
  },
  {
   "cell_type": "code",
   "execution_count": 13,
   "metadata": {},
   "outputs": [
    {
     "name": "stdout",
     "output_type": "stream",
     "text": [
      "17.6 µs ± 3.41 µs per loop (mean ± std. dev. of 2 runs, 100 loops each)\n"
     ]
    }
   ],
   "source": [
    "# Check line execution time\n",
    "# -r - sets number of runs\n",
    "# -n - sets number of loops\n",
    "%timeit -r2 -n100 tmp = np.random.rand(1000)"
   ]
  },
  {
   "cell_type": "code",
   "execution_count": 14,
   "metadata": {},
   "outputs": [
    {
     "name": "stdout",
     "output_type": "stream",
     "text": [
      "13.2 µs ± 669 ns per loop (mean ± std. dev. of 7 runs, 100000 loops each)\n",
      "<class 'IPython.core.magics.execution.TimeitResult'>\n"
     ]
    },
    {
     "data": {
      "text/plain": [
       "<TimeitResult : 13.2 µs ± 669 ns per loop (mean ± std. dev. of 7 runs, 100000 loops each)>"
      ]
     },
     "execution_count": 14,
     "metadata": {},
     "output_type": "execute_result"
    }
   ],
   "source": [
    "# -o <variable_name> saves the result to a variable\n",
    "execution_time = %timeit -o tmp = np.random.rand(1000)\n",
    "print(type(execution_time))\n",
    "execution_time"
   ]
  },
  {
   "cell_type": "markdown",
   "metadata": {},
   "source": [
    "### Line profiler"
   ]
  },
  {
   "cell_type": "code",
   "execution_count": 15,
   "metadata": {},
   "outputs": [],
   "source": [
    "def busy_func():\n",
    "    tmp = np.random.rand(1000)\n",
    "    tmp = np.array([*range(1, 1000)])"
   ]
  },
  {
   "cell_type": "code",
   "execution_count": 16,
   "metadata": {},
   "outputs": [],
   "source": [
    "%load_ext line_profiler"
   ]
  },
  {
   "cell_type": "code",
   "execution_count": 17,
   "metadata": {},
   "outputs": [],
   "source": [
    "%lprun -f busy_func busy_func()"
   ]
  },
  {
   "cell_type": "markdown",
   "metadata": {},
   "source": [
    "## Profiling RAM usage"
   ]
  },
  {
   "cell_type": "code",
   "execution_count": 18,
   "metadata": {},
   "outputs": [],
   "source": [
    "import sys"
   ]
  },
  {
   "cell_type": "code",
   "execution_count": 19,
   "metadata": {},
   "outputs": [
    {
     "data": {
      "text/plain": [
       "9120"
      ]
     },
     "execution_count": 19,
     "metadata": {},
     "output_type": "execute_result"
    }
   ],
   "source": [
    "sys.getsizeof([*range(1000)])"
   ]
  },
  {
   "cell_type": "code",
   "execution_count": 20,
   "metadata": {},
   "outputs": [
    {
     "data": {
      "text/plain": [
       "8096"
      ]
     },
     "execution_count": 20,
     "metadata": {},
     "output_type": "execute_result"
    }
   ],
   "source": [
    "sys.getsizeof(np.array([*range(1000)]))"
   ]
  },
  {
   "cell_type": "markdown",
   "metadata": {},
   "source": [
    "### Memory profiler"
   ]
  },
  {
   "cell_type": "code",
   "execution_count": 21,
   "metadata": {},
   "outputs": [],
   "source": [
    "%load_ext memory_profiler"
   ]
  },
  {
   "cell_type": "code",
   "execution_count": 22,
   "metadata": {},
   "outputs": [],
   "source": [
    "from funcs import busy_ram_func"
   ]
  },
  {
   "cell_type": "code",
   "execution_count": 23,
   "metadata": {},
   "outputs": [
    {
     "name": "stdout",
     "output_type": "stream",
     "text": [
      "\n"
     ]
    }
   ],
   "source": [
    "%mprun -f busy_ram_func busy_ram_func()"
   ]
  },
  {
   "cell_type": "markdown",
   "metadata": {},
   "source": [
    "# itertools, collections"
   ]
  },
  {
   "cell_type": "code",
   "execution_count": 24,
   "metadata": {},
   "outputs": [],
   "source": [
    "pockemon_names = ['Abomasnow', 'Abra', 'Absol', 'Accelgor', 'Aerodactyl', 'Aggron', 'Aipom', 'Alakazam', 'Alomomola', 'Altaria', 'Amaura', 'Ambipom', 'Amoonguss', 'Ampharos', 'Anorith', 'Arbok', 'Arcanine', 'Arceus', 'Archen', 'Archeops', 'Ariados', 'Armaldo', 'Aromatisse', 'Aron', 'Articuno', 'Audino', 'Aurorus', 'Avalugg', 'Axew', 'Azelf', 'Azumarill', 'Azurill', 'Bagon', 'Baltoy', 'Banette', 'Barbaracle', 'Barboach', 'Basculin', 'Bastiodon', 'Bayleef', 'Beartic', 'Beautifly', 'Beedrill', 'Beheeyem', 'Beldum', 'Bellossom', 'Bellsprout', 'Bergmite', 'Bibarel', 'Bidoof', 'Binacle', 'Bisharp', 'Blastoise', 'Blaziken', 'Blissey', 'Blitzle', 'Boldore', 'Bonsly', 'Bouffalant', 'Braixen', 'Braviary', 'Breloom', 'Bronzong', 'Bronzor', 'Budew', 'Buizel', 'Bulbasaur', 'Buneary', 'Bunnelby', 'Burmy', 'Butterfree', 'Cacnea', 'Cacturne', 'Camerupt', 'Carbink', 'Carnivine', 'Carracosta', 'Carvanha', 'Cascoon', 'Castform', 'Caterpie', 'Celebi', 'Chandelure', 'Chansey', 'Charizard', 'Charmander', 'Charmeleon', 'Chatot', 'Cherrim', 'Cherubi', 'Chesnaught', 'Chespin', 'Chikorita', 'Chimchar', 'Chimecho', 'Chinchou', 'Chingling', 'Cinccino', 'Clamperl', 'Clauncher', 'Clawitzer', 'Claydol', 'Clefable', 'Clefairy', 'Cleffa', 'Cloyster', 'Cobalion', 'Cofagrigus', 'Combee', 'Combusken', 'Conkeldurr', 'Corphish', 'Corsola', 'Cottonee', 'Cradily', 'Cranidos', 'Crawdaunt', 'Cresselia', 'Croagunk', 'Crobat', 'Croconaw', 'Crustle', 'Cryogonal', 'Cubchoo', 'Cubone', 'Cyndaquil', 'Darkrai', 'DarmanitanStandard Mode', 'DarmanitanZen Mode', 'Darumaka', 'Dedenne', 'Deerling', 'Deino', 'Delcatty', 'Delibird', 'Delphox', 'Dewgong', 'Dewott', 'Dialga', 'Diancie', 'Diggersby', 'Diglett', 'Ditto', 'Dodrio', 'Doduo', 'Donphan', 'Doublade', 'Dragalge', 'Dragonair', 'Dragonite', 'Drapion', 'Dratini', 'Drifblim', 'Drifloon', 'Drilbur', 'Drowzee', 'Druddigon', 'Ducklett', 'Dugtrio', 'Dunsparce', 'Duosion', 'Durant', 'Dusclops', 'Dusknoir', 'Duskull', 'Dustox', 'Dwebble', 'Eelektrik', 'Eelektross', 'Eevee', 'Ekans', 'Electabuzz', 'Electivire', 'Electrike', 'Electrode', 'Elekid', 'Elgyem', 'Emboar', 'Emolga', 'Empoleon', 'Entei', 'Escavalier', 'Espeon', 'Espurr', 'Excadrill', 'Exeggcute', 'Exeggutor', 'Exploud', \"Farfetch'd\", 'Fearow', 'Feebas', 'Fennekin', 'Feraligatr', 'Ferroseed', 'Ferrothorn', 'Finneon', 'Flaaffy', 'Flabébé', 'Flareon', 'Fletchinder', 'Fletchling', 'Floatzel', 'Floette', 'Florges', 'Flygon', 'Foongus', 'Forretress', 'Fraxure', 'Frillish', 'Froakie', 'Frogadier', 'Froslass', 'Furfrou', 'Furret', 'Gabite', 'Gallade', 'Galvantula', 'Garbodor', 'Garchomp', 'Gardevoir', 'Gastly', 'Gastrodon', 'Genesect', 'Gengar', 'Geodude', 'Gible', 'Gigalith', 'Girafarig', 'Glaceon', 'Glalie', 'Glameow', 'Gligar', 'Gliscor', 'Gloom', 'Gogoat', 'Golbat', 'Goldeen', 'Golduck', 'Golem', 'Golett', 'Golurk', 'Goodra', 'Goomy', 'Gorebyss', 'Gothita', 'Gothitelle', 'Gothorita', 'Granbull', 'Graveler', 'Greninja', 'Grimer', 'Grotle', 'Groudon', 'GroudonPrimal Groudon', 'Grovyle', 'Growlithe', 'Grumpig', 'Gulpin', 'Gurdurr', 'Gyarados', 'Happiny', 'Hariyama', 'Haunter', 'Hawlucha', 'Haxorus', 'Heatmor', 'Heatran', 'Heliolisk', 'Helioptile', 'Heracross', 'Herdier', 'Hippopotas', 'Hippowdon', 'Hitmonchan', 'Hitmonlee', 'Hitmontop', 'Ho-oh', 'Honchkrow', 'Honedge', 'Hoothoot', 'Hoppip', 'Horsea', 'Houndoom', 'Houndour', 'Huntail', 'Hydreigon', 'Hypno', 'Igglybuff', 'Illumise', 'Infernape', 'Inkay', 'Ivysaur', 'Jellicent', 'Jigglypuff', 'Jirachi', 'Jolteon', 'Joltik', 'Jumpluff', 'Jynx', 'Kabuto', 'Kabutops', 'Kadabra', 'Kakuna', 'Kangaskhan', 'Karrablast', 'Kecleon', 'Kingdra', 'Kingler', 'Kirlia', 'Klang', 'Klefki', 'Klink', 'Klinklang', 'Koffing', 'Krabby', 'Kricketot', 'Kricketune', 'Krokorok', 'Krookodile', 'Kyogre', 'KyogrePrimal Kyogre', 'Kyurem', 'KyuremBlack Kyurem', 'KyuremWhite Kyurem', 'Lairon', 'Lampent', 'Lanturn', 'Lapras', 'Larvesta', 'Larvitar', 'Latias', 'Latios', 'Leafeon', 'Leavanny', 'Ledian', 'Ledyba', 'Lickilicky', 'Lickitung', 'Liepard', 'Lileep', 'Lilligant', 'Lillipup', 'Linoone', 'Litleo', 'Litwick', 'Lombre', 'Lopunny', 'Lotad', 'Loudred', 'Lucario', 'Ludicolo', 'Lugia', 'Lumineon', 'Lunatone', 'Luvdisc', 'Luxio', 'Luxray', 'Machamp', 'Machoke', 'Machop', 'Magby', 'Magcargo', 'Magikarp', 'Magmar', 'Magmortar', 'Magnemite', 'Magneton', 'Magnezone', 'Makuhita', 'Malamar', 'Mamoswine', 'Manaphy', 'Mandibuzz', 'Manectric', 'Mankey', 'Mantine', 'Mantyke', 'Maractus', 'Mareep', 'Marill', 'Marowak', 'Marshtomp', 'Masquerain', 'Mawile', 'Medicham', 'Meditite', 'MeowsticFemale', 'MeowsticMale', 'Meowth', 'Mesprit', 'Metagross', 'Metang', 'Metapod', 'Mew', 'Mewtwo', 'Mienfoo', 'Mienshao', 'Mightyena', 'Milotic', 'Miltank', 'Mime Jr.', 'Minccino', 'Minun', 'Misdreavus', 'Mismagius', 'Moltres', 'Monferno', 'Mothim', 'Mr. Mime', 'Mudkip', 'Muk', 'Munchlax', 'Munna', 'Murkrow', 'Musharna', 'Natu', 'Nidoking', 'Nidoqueen', 'Nidoran♀', 'Nidoran♂', 'Nidorina', 'Nidorino', 'Nincada', 'Ninetales', 'Ninjask', 'Noctowl', 'Noibat', 'Noivern', 'Nosepass', 'Numel', 'Nuzleaf', 'Octillery', 'Oddish', 'Omanyte', 'Omastar', 'Onix', 'Oshawott', 'Pachirisu', 'Palkia', 'Palpitoad', 'Pancham', 'Pangoro', 'Panpour', 'Pansage', 'Pansear', 'Paras', 'Parasect', 'Patrat', 'Pawniard', 'Pelipper', 'Persian', 'Petilil', 'Phanpy', 'Phantump', 'Phione', 'Pichu', 'Pidgeot', 'Pidgeotto', 'Pidgey', 'Pidove', 'Pignite', 'Pikachu', 'Piloswine', 'Pineco', 'Pinsir', 'Piplup', 'Plusle', 'Politoed', 'Poliwag', 'Poliwhirl', 'Poliwrath', 'Ponyta', 'Poochyena', 'Porygon', 'Porygon-Z', 'Porygon2', 'Primeape', 'Prinplup', 'Probopass', 'Psyduck', 'Pupitar', 'Purrloin', 'Purugly', 'Pyroar', 'Quagsire', 'Quilava', 'Quilladin', 'Qwilfish', 'Raichu', 'Raikou', 'Ralts', 'Rampardos', 'Rapidash', 'Raticate', 'Rattata', 'Rayquaza', 'Regice', 'Regigigas', 'Regirock', 'Registeel', 'Relicanth', 'Remoraid', 'Reshiram', 'Reuniclus', 'Rhydon', 'Rhyhorn', 'Rhyperior', 'Riolu', 'Roggenrola', 'Roselia', 'Roserade', 'Rotom', 'RotomFan Rotom', 'RotomFrost Rotom', 'RotomHeat Rotom', 'RotomMow Rotom', 'RotomWash Rotom', 'Rufflet', 'Sableye', 'Salamence', 'Samurott', 'Sandile', 'Sandshrew', 'Sandslash', 'Sawk', 'Sawsbuck', 'Scatterbug', 'Sceptile', 'Scizor', 'Scolipede', 'Scrafty', 'Scraggy', 'Scyther', 'Seadra', 'Seaking', 'Sealeo', 'Seedot', 'Seel', 'Seismitoad', 'Sentret', 'Serperior', 'Servine', 'Seviper', 'Sewaddle', 'Sharpedo', 'Shedinja', 'Shelgon', 'Shellder', 'Shellos', 'Shelmet', 'Shieldon', 'Shiftry', 'Shinx', 'Shroomish', 'Shuckle', 'Shuppet', 'Sigilyph', 'Silcoon', 'Simipour', 'Simisage', 'Simisear', 'Skarmory', 'Skiddo', 'Skiploom', 'Skitty', 'Skorupi', 'Skrelp', 'Skuntank', 'Slaking', 'Slakoth', 'Sliggoo', 'Slowbro', 'Slowking', 'Slowpoke', 'Slugma', 'Slurpuff', 'Smeargle', 'Smoochum', 'Sneasel', 'Snivy', 'Snorlax', 'Snorunt', 'Snover', 'Snubbull', 'Solosis', 'Solrock', 'Spearow', 'Spewpa', 'Spheal', 'Spinarak', 'Spinda', 'Spiritomb', 'Spoink', 'Spritzee', 'Squirtle', 'Stantler', 'Staraptor', 'Staravia', 'Starly', 'Starmie', 'Staryu', 'Steelix', 'Stoutland', 'Stunfisk', 'Stunky', 'Sudowoodo', 'Suicune', 'Sunflora', 'Sunkern', 'Surskit', 'Swablu', 'Swadloon', 'Swalot', 'Swampert', 'Swanna', 'Swellow', 'Swinub', 'Swirlix', 'Swoobat', 'Sylveon', 'Taillow', 'Talonflame', 'Tangela', 'Tangrowth', 'Tauros', 'Teddiursa', 'Tentacool', 'Tentacruel', 'Tepig', 'Terrakion', 'Throh', 'Timburr', 'Tirtouga', 'Togekiss', 'Togepi', 'Togetic', 'Torchic', 'Torkoal', 'Torterra', 'Totodile', 'Toxicroak', 'Tranquill', 'Trapinch', 'Treecko', 'Trevenant', 'Tropius', 'Trubbish', 'Turtwig', 'Tympole', 'Tynamo', 'Typhlosion', 'Tyranitar', 'Tyrantrum', 'Tyrogue', 'Tyrunt', 'Umbreon', 'Unfezant', 'Unown', 'Ursaring', 'Uxie', 'Vanillish', 'Vanillite', 'Vanilluxe', 'Vaporeon', 'Venipede', 'Venomoth', 'Venonat', 'Venusaur', 'Vespiquen', 'Vibrava', 'Victini', 'Victreebel', 'Vigoroth', 'Vileplume', 'Virizion', 'Vivillon', 'Volbeat', 'Volcanion', 'Volcarona', 'Voltorb', 'Vullaby', 'Vulpix', 'Wailmer', 'Wailord', 'Walrein', 'Wartortle', 'Watchog', 'Weavile', 'Weedle', 'Weepinbell', 'Weezing', 'Whimsicott', 'Whirlipede', 'Whiscash', 'Whismur', 'Wigglytuff', 'Wingull', 'Wobbuffet', 'Woobat', 'Wooper', 'WormadamPlant Cloak', 'WormadamSandy Cloak', 'WormadamTrash Cloak', 'Wurmple', 'Wynaut', 'Xatu', 'Xerneas', 'Yamask', 'Yanma', 'Yanmega', 'Yveltal', 'Zangoose', 'Zapdos', 'Zebstrika', 'Zekrom', 'Zigzagoon', 'Zoroark', 'Zorua', 'Zubat', 'Zweilous']\n",
    "primary_types = ['Grass', 'Psychic', 'Dark', 'Bug', 'Rock', 'Steel', 'Normal', 'Psychic', 'Water', 'Dragon', 'Rock', 'Normal', 'Grass', 'Electric', 'Rock', 'Poison', 'Fire', 'Normal', 'Rock', 'Rock', 'Bug', 'Rock', 'Fairy', 'Steel', 'Ice', 'Normal', 'Rock', 'Ice', 'Dragon', 'Psychic', 'Water', 'Normal', 'Dragon', 'Ground', 'Ghost', 'Rock', 'Water', 'Water', 'Rock', 'Grass', 'Ice', 'Bug', 'Bug', 'Psychic', 'Steel', 'Grass', 'Grass', 'Ice', 'Normal', 'Normal', 'Rock', 'Dark', 'Water', 'Fire', 'Normal', 'Electric', 'Rock', 'Rock', 'Normal', 'Fire', 'Normal', 'Grass', 'Steel', 'Steel', 'Grass', 'Water', 'Grass', 'Normal', 'Normal', 'Bug', 'Bug', 'Grass', 'Grass', 'Fire', 'Rock', 'Grass', 'Water', 'Water', 'Bug', 'Normal', 'Bug', 'Psychic', 'Ghost', 'Normal', 'Fire', 'Fire', 'Fire', 'Normal', 'Grass', 'Grass', 'Grass', 'Grass', 'Grass', 'Fire', 'Psychic', 'Water', 'Psychic', 'Normal', 'Water', 'Water', 'Water', 'Ground', 'Fairy', 'Fairy', 'Fairy', 'Water', 'Steel', 'Ghost', 'Bug', 'Fire', 'Fighting', 'Water', 'Water', 'Grass', 'Rock', 'Rock', 'Water', 'Psychic', 'Poison', 'Poison', 'Water', 'Bug', 'Ice', 'Ice', 'Ground', 'Fire', 'Dark', 'Fire', 'Fire', 'Fire', 'Electric', 'Normal', 'Dark', 'Normal', 'Ice', 'Fire', 'Water', 'Water', 'Steel', 'Rock', 'Normal', 'Ground', 'Normal', 'Normal', 'Normal', 'Ground', 'Steel', 'Poison', 'Dragon', 'Dragon', 'Poison', 'Dragon', 'Ghost', 'Ghost', 'Ground', 'Psychic', 'Dragon', 'Water', 'Ground', 'Normal', 'Psychic', 'Bug', 'Ghost', 'Ghost', 'Ghost', 'Bug', 'Bug', 'Electric', 'Electric', 'Normal', 'Poison', 'Electric', 'Electric', 'Electric', 'Electric', 'Electric', 'Psychic', 'Fire', 'Electric', 'Water', 'Fire', 'Bug', 'Psychic', 'Psychic', 'Ground', 'Grass', 'Grass', 'Normal', 'Normal', 'Normal', 'Water', 'Fire', 'Water', 'Grass', 'Grass', 'Water', 'Electric', 'Fairy', 'Fire', 'Fire', 'Normal', 'Water', 'Fairy', 'Fairy', 'Ground', 'Grass', 'Bug', 'Dragon', 'Water', 'Water', 'Water', 'Ice', 'Normal', 'Normal', 'Dragon', 'Psychic', 'Bug', 'Poison', 'Dragon', 'Psychic', 'Ghost', 'Water', 'Bug', 'Ghost', 'Rock', 'Dragon', 'Rock', 'Normal', 'Ice', 'Ice', 'Normal', 'Ground', 'Ground', 'Grass', 'Grass', 'Poison', 'Water', 'Water', 'Rock', 'Ground', 'Ground', 'Dragon', 'Dragon', 'Water', 'Psychic', 'Psychic', 'Psychic', 'Fairy', 'Rock', 'Water', 'Poison', 'Grass', 'Ground', 'Ground', 'Grass', 'Fire', 'Psychic', 'Poison', 'Fighting', 'Water', 'Normal', 'Fighting', 'Ghost', 'Fighting', 'Dragon', 'Fire', 'Fire', 'Electric', 'Electric', 'Bug', 'Normal', 'Ground', 'Ground', 'Fighting', 'Fighting', 'Fighting', 'Fire', 'Dark', 'Steel', 'Normal', 'Grass', 'Water', 'Dark', 'Dark', 'Water', 'Dark', 'Psychic', 'Normal', 'Bug', 'Fire', 'Dark', 'Grass', 'Water', 'Normal', 'Steel', 'Electric', 'Bug', 'Grass', 'Ice', 'Rock', 'Rock', 'Psychic', 'Bug', 'Normal', 'Bug', 'Normal', 'Water', 'Water', 'Psychic', 'Steel', 'Steel', 'Steel', 'Steel', 'Poison', 'Water', 'Bug', 'Bug', 'Ground', 'Ground', 'Water', 'Water', 'Dragon', 'Dragon', 'Dragon', 'Steel', 'Ghost', 'Water', 'Water', 'Bug', 'Rock', 'Dragon', 'Dragon', 'Grass', 'Bug', 'Bug', 'Bug', 'Normal', 'Normal', 'Dark', 'Rock', 'Grass', 'Normal', 'Normal', 'Fire', 'Ghost', 'Water', 'Normal', 'Water', 'Normal', 'Fighting', 'Water', 'Psychic', 'Water', 'Rock', 'Water', 'Electric', 'Electric', 'Fighting', 'Fighting', 'Fighting', 'Fire', 'Fire', 'Water', 'Fire', 'Fire', 'Electric', 'Electric', 'Electric', 'Fighting', 'Dark', 'Ice', 'Water', 'Dark', 'Electric', 'Fighting', 'Water', 'Water', 'Grass', 'Electric', 'Water', 'Ground', 'Water', 'Bug', 'Steel', 'Fighting', 'Fighting', 'Psychic', 'Psychic', 'Normal', 'Psychic', 'Steel', 'Steel', 'Bug', 'Psychic', 'Psychic', 'Fighting', 'Fighting', 'Dark', 'Water', 'Normal', 'Psychic', 'Normal', 'Electric', 'Ghost', 'Ghost', 'Fire', 'Fire', 'Bug', 'Psychic', 'Water', 'Poison', 'Normal', 'Psychic', 'Dark', 'Psychic', 'Psychic', 'Poison', 'Poison', 'Poison', 'Poison', 'Poison', 'Poison', 'Bug', 'Fire', 'Bug', 'Normal', 'Flying', 'Flying', 'Rock', 'Fire', 'Grass', 'Water', 'Grass', 'Rock', 'Rock', 'Rock', 'Water', 'Electric', 'Water', 'Water', 'Fighting', 'Fighting', 'Water', 'Grass', 'Fire', 'Bug', 'Bug', 'Normal', 'Dark', 'Water', 'Normal', 'Grass', 'Ground', 'Ghost', 'Water', 'Electric', 'Normal', 'Normal', 'Normal', 'Normal', 'Fire', 'Electric', 'Ice', 'Bug', 'Bug', 'Water', 'Electric', 'Water', 'Water', 'Water', 'Water', 'Fire', 'Dark', 'Normal', 'Normal', 'Normal', 'Fighting', 'Water', 'Rock', 'Water', 'Rock', 'Dark', 'Normal', 'Fire', 'Water', 'Fire', 'Grass', 'Water', 'Electric', 'Electric', 'Psychic', 'Rock', 'Fire', 'Normal', 'Normal', 'Dragon', 'Ice', 'Normal', 'Rock', 'Steel', 'Water', 'Water', 'Dragon', 'Psychic', 'Ground', 'Ground', 'Ground', 'Fighting', 'Rock', 'Grass', 'Grass', 'Electric', 'Electric', 'Electric', 'Electric', 'Electric', 'Electric', 'Normal', 'Dark', 'Dragon', 'Water', 'Ground', 'Ground', 'Ground', 'Fighting', 'Normal', 'Bug', 'Grass', 'Bug', 'Bug', 'Dark', 'Dark', 'Bug', 'Water', 'Water', 'Ice', 'Grass', 'Water', 'Water', 'Normal', 'Grass', 'Grass', 'Poison', 'Bug', 'Water', 'Bug', 'Dragon', 'Water', 'Water', 'Bug', 'Rock', 'Grass', 'Electric', 'Grass', 'Bug', 'Ghost', 'Psychic', 'Bug', 'Water', 'Grass', 'Fire', 'Steel', 'Grass', 'Grass', 'Normal', 'Poison', 'Poison', 'Poison', 'Normal', 'Normal', 'Dragon', 'Water', 'Water', 'Water', 'Fire', 'Fairy', 'Normal', 'Ice', 'Dark', 'Grass', 'Normal', 'Ice', 'Grass', 'Fairy', 'Psychic', 'Rock', 'Normal', 'Bug', 'Ice', 'Bug', 'Normal', 'Ghost', 'Psychic', 'Fairy', 'Water', 'Normal', 'Normal', 'Normal', 'Normal', 'Water', 'Water', 'Steel', 'Normal', 'Ground', 'Poison', 'Rock', 'Water', 'Grass', 'Grass', 'Bug', 'Normal', 'Bug', 'Poison', 'Water', 'Water', 'Normal', 'Ice', 'Fairy', 'Psychic', 'Fairy', 'Normal', 'Fire', 'Grass', 'Grass', 'Normal', 'Normal', 'Water', 'Water', 'Fire', 'Rock', 'Fighting', 'Fighting', 'Water', 'Fairy', 'Fairy', 'Fairy', 'Fire', 'Fire', 'Grass', 'Water', 'Poison', 'Normal', 'Ground', 'Grass', 'Ghost', 'Grass', 'Poison', 'Grass', 'Water', 'Electric', 'Fire', 'Rock', 'Rock', 'Fighting', 'Rock', 'Dark', 'Normal', 'Psychic', 'Normal', 'Psychic', 'Ice', 'Ice', 'Ice', 'Water', 'Bug', 'Bug', 'Bug', 'Grass', 'Bug', 'Ground', 'Psychic', 'Grass', 'Normal', 'Grass', 'Grass', 'Bug', 'Bug', 'Fire', 'Bug', 'Electric', 'Dark', 'Fire', 'Water', 'Water', 'Ice', 'Water', 'Normal', 'Dark', 'Bug', 'Grass', 'Poison', 'Grass', 'Bug', 'Water', 'Normal', 'Normal', 'Water', 'Psychic', 'Psychic', 'Water', 'Bug', 'Bug', 'Bug', 'Bug', 'Psychic', 'Psychic', 'Fairy', 'Ghost', 'Bug', 'Bug', 'Dark', 'Normal', 'Electric', 'Electric', 'Dragon', 'Normal', 'Dark', 'Dark', 'Poison', 'Dark']\n",
    "secondary_types = ['Ice', None, None, None, 'Flying', 'Rock', None, None, None, 'Flying', 'Ice', None, 'Poison', None, 'Bug', None, None, None, 'Flying', 'Flying', 'Poison', 'Bug', None, 'Rock', 'Flying', None, 'Ice', None, None, None, 'Fairy', 'Fairy', None, 'Psychic', None, 'Water', 'Ground', None, 'Steel', None, None, 'Flying', 'Poison', None, 'Psychic', None, 'Poison', None, 'Water', None, 'Water', 'Steel', None, 'Fighting', None, None, None, None, None, None, 'Flying', 'Fighting', 'Psychic', 'Psychic', 'Poison', None, 'Poison', None, None, None, 'Flying', None, 'Dark', 'Ground', 'Fairy', None, 'Rock', 'Dark', None, None, None, 'Grass', 'Fire', None, 'Flying', None, None, 'Flying', None, None, 'Fighting', None, None, None, None, 'Electric', None, None, None, None, None, 'Psychic', None, None, None, 'Ice', 'Fighting', None, 'Flying', 'Fighting', None, None, 'Rock', 'Fairy', 'Grass', None, 'Dark', None, 'Fighting', 'Flying', None, 'Rock', None, None, None, None, None, None, 'Psychic', None, 'Fairy', 'Grass', 'Dragon', None, 'Flying', 'Psychic', 'Ice', None, 'Dragon', 'Fairy', 'Ground', None, None, 'Flying', 'Flying', None, 'Ghost', 'Dragon', None, 'Flying', 'Dark', None, 'Flying', 'Flying', None, None, None, 'Flying', None, None, None, 'Steel', None, None, None, 'Poison', 'Rock', None, None, None, None, None, None, None, None, None, None, 'Fighting', 'Flying', 'Steel', None, 'Steel', None, None, 'Steel', 'Psychic', 'Psychic', None, 'Flying', 'Flying', None, None, None, 'Steel', 'Steel', None, None, None, None, 'Flying', 'Flying', None, None, None, 'Dragon', 'Poison', 'Steel', None, 'Ghost', None, None, 'Ghost', None, None, 'Ground', 'Fighting', 'Electric', None, 'Ground', 'Fairy', 'Poison', 'Ground', 'Steel', 'Poison', 'Ground', 'Ground', None, 'Psychic', None, None, None, 'Flying', 'Flying', 'Poison', None, 'Flying', None, None, 'Ground', 'Ghost', 'Ghost', None, None, None, None, None, None, None, 'Ground', 'Dark', None, None, None, 'Fire', None, None, None, None, None, 'Flying', None, None, 'Poison', 'Flying', None, None, 'Steel', 'Normal', 'Normal', 'Fighting', None, None, None, None, None, None, 'Flying', 'Flying', 'Ghost', 'Flying', 'Flying', None, 'Fire', 'Fire', None, 'Dragon', None, 'Fairy', None, 'Fighting', 'Psychic', 'Poison', 'Ghost', 'Fairy', 'Psychic', None, 'Electric', 'Flying', 'Psychic', 'Water', 'Water', None, 'Poison', None, None, None, 'Dragon', None, 'Fairy', None, 'Fairy', None, None, None, None, None, None, 'Dark', 'Dark', None, None, 'Ice', 'Ice', 'Ice', 'Rock', 'Fire', 'Electric', 'Ice', 'Fire', 'Ground', 'Psychic', 'Psychic', None, 'Grass', 'Flying', 'Flying', None, None, None, 'Grass', None, None, None, 'Normal', 'Fire', 'Grass', None, 'Grass', None, 'Steel', 'Grass', 'Flying', None, 'Psychic', None, None, None, None, None, None, None, 'Rock', None, None, None, 'Steel', 'Steel', 'Steel', None, 'Psychic', 'Ground', None, 'Flying', None, None, 'Flying', 'Flying', None, None, 'Fairy', None, 'Ground', 'Flying', 'Fairy', 'Psychic', 'Psychic', None, None, None, None, 'Psychic', 'Psychic', None, None, None, None, None, None, None, None, 'Fairy', None, None, None, None, 'Flying', 'Fighting', 'Flying', 'Fairy', None, None, None, None, 'Flying', None, 'Flying', 'Ground', 'Ground', None, None, None, None, 'Ground', None, 'Flying', 'Flying', 'Dragon', 'Dragon', None, 'Ground', 'Dark', None, 'Poison', 'Water', 'Water', 'Ground', None, None, 'Dragon', 'Ground', None, 'Dark', None, None, None, 'Grass', 'Grass', None, 'Steel', 'Flying', None, None, None, 'Grass', None, None, 'Flying', 'Flying', 'Flying', 'Flying', 'Fighting', None, 'Ground', None, None, None, None, None, None, None, 'Fighting', None, None, None, None, None, None, None, 'Steel', None, 'Ground', None, None, 'Normal', 'Ground', None, None, 'Poison', None, None, 'Fairy', None, None, None, None, 'Flying', None, None, None, None, 'Rock', None, 'Fire', None, 'Rock', 'Rock', 'Rock', None, None, 'Poison', 'Poison', 'Ghost', 'Flying', 'Ice', 'Fire', 'Grass', 'Water', 'Flying', 'Ghost', 'Flying', None, 'Dark', None, None, None, 'Grass', None, None, 'Steel', 'Poison', 'Fighting', 'Fighting', 'Flying', None, None, 'Water', None, None, 'Ground', None, None, None, None, 'Grass', 'Dark', 'Ghost', None, None, None, None, 'Steel', 'Dark', None, None, 'Rock', None, 'Flying', None, None, None, None, 'Flying', None, 'Flying', None, 'Bug', 'Water', 'Dark', None, None, None, 'Psychic', 'Psychic', 'Psychic', None, None, None, 'Psychic', 'Ice', None, None, None, 'Ice', None, None, 'Psychic', 'Flying', None, 'Water', 'Poison', None, 'Dark', None, None, None, None, 'Flying', 'Flying', 'Flying', 'Psychic', None, 'Ground', None, 'Electric', 'Dark', None, None, None, None, 'Water', 'Flying', 'Grass', None, 'Ground', 'Flying', 'Flying', 'Ground', None, 'Flying', None, 'Flying', 'Flying', None, None, None, None, 'Poison', 'Poison', None, 'Fighting', None, None, 'Rock', 'Flying', None, 'Flying', None, None, 'Ground', None, 'Fighting', 'Flying', None, None, 'Grass', 'Flying', None, None, None, None, None, 'Dark', 'Dragon', None, 'Dragon', None, 'Flying', None, None, None, None, None, None, None, 'Poison', 'Poison', 'Poison', 'Poison', 'Flying', 'Dragon', 'Fire', 'Poison', None, 'Poison', 'Fighting', 'Flying', None, 'Water', 'Fire', None, 'Flying', None, None, None, 'Water', None, None, 'Ice', 'Poison', 'Poison', None, 'Fairy', 'Poison', 'Ground', None, 'Fairy', 'Flying', None, 'Flying', 'Ground', 'Grass', 'Ground', 'Steel', None, None, 'Flying', None, None, 'Flying', 'Flying', 'Flying', None, 'Flying', None, 'Electric', None, None, None, 'Flying', 'Dragon']"
   ]
  },
  {
   "cell_type": "code",
   "execution_count": 25,
   "metadata": {},
   "outputs": [],
   "source": [
    "from itertools import combinations\n",
    "from collections import Counter"
   ]
  },
  {
   "cell_type": "code",
   "execution_count": 26,
   "metadata": {},
   "outputs": [
    {
     "data": {
      "text/plain": [
       "[('Abomasnow', 'Abra'),\n",
       " ('Abomasnow', 'Absol'),\n",
       " ('Abomasnow', 'Accelgor'),\n",
       " ('Abomasnow', 'Aerodactyl'),\n",
       " ('Abomasnow', 'Aggron')]"
      ]
     },
     "execution_count": 26,
     "metadata": {},
     "output_type": "execute_result"
    }
   ],
   "source": [
    "# makes all possible combinations\n",
    "[*combinations(pockemon_names, 2)][:5]"
   ]
  },
  {
   "cell_type": "code",
   "execution_count": 27,
   "metadata": {},
   "outputs": [
    {
     "data": {
      "text/plain": [
       "[('Abomasnow', 'Abra', 'Absol'),\n",
       " ('Abomasnow', 'Abra', 'Accelgor'),\n",
       " ('Abomasnow', 'Abra', 'Aerodactyl'),\n",
       " ('Abomasnow', 'Abra', 'Aggron'),\n",
       " ('Abomasnow', 'Abra', 'Aipom')]"
      ]
     },
     "execution_count": 27,
     "metadata": {},
     "output_type": "execute_result"
    }
   ],
   "source": [
    "[*combinations(pockemon_names, 3)][:5]"
   ]
  },
  {
   "cell_type": "code",
   "execution_count": 28,
   "metadata": {},
   "outputs": [
    {
     "data": {
      "text/plain": [
       "Counter({'Grass': 64,\n",
       "         'Psychic': 46,\n",
       "         'Dark': 28,\n",
       "         'Bug': 65,\n",
       "         'Rock': 41,\n",
       "         'Steel': 21,\n",
       "         'Normal': 92,\n",
       "         'Water': 105,\n",
       "         'Dragon': 25,\n",
       "         'Electric': 40,\n",
       "         'Poison': 28,\n",
       "         'Fire': 48,\n",
       "         'Fairy': 17,\n",
       "         'Ice': 23,\n",
       "         'Ground': 30,\n",
       "         'Ghost': 20,\n",
       "         'Fighting': 25,\n",
       "         'Flying': 2})"
      ]
     },
     "execution_count": 28,
     "metadata": {},
     "output_type": "execute_result"
    }
   ],
   "source": [
    "# Counts elements\n",
    "Counter(primary_types)"
   ]
  },
  {
   "cell_type": "markdown",
   "metadata": {},
   "source": [
    "### Sets"
   ]
  },
  {
   "cell_type": "code",
   "execution_count": 30,
   "metadata": {},
   "outputs": [],
   "source": [
    "set_1 = {1, 2, 3}\n",
    "set_2 = {3, 4, 5}"
   ]
  },
  {
   "cell_type": "code",
   "execution_count": 32,
   "metadata": {},
   "outputs": [
    {
     "data": {
      "text/plain": [
       "{3}"
      ]
     },
     "execution_count": 32,
     "metadata": {},
     "output_type": "execute_result"
    }
   ],
   "source": [
    "set_1.intersection(set_2)"
   ]
  },
  {
   "cell_type": "code",
   "execution_count": 34,
   "metadata": {},
   "outputs": [
    {
     "data": {
      "text/plain": [
       "{1, 2}"
      ]
     },
     "execution_count": 34,
     "metadata": {},
     "output_type": "execute_result"
    }
   ],
   "source": [
    "set_1.difference(set_2)"
   ]
  },
  {
   "cell_type": "code",
   "execution_count": 35,
   "metadata": {},
   "outputs": [
    {
     "data": {
      "text/plain": [
       "{1, 2, 4, 5}"
      ]
     },
     "execution_count": 35,
     "metadata": {},
     "output_type": "execute_result"
    }
   ],
   "source": [
    "set_1.symmetric_difference(set_2)"
   ]
  }
 ],
 "metadata": {
  "kernelspec": {
   "display_name": "Python 3",
   "language": "python",
   "name": "python3"
  },
  "language_info": {
   "codemirror_mode": {
    "name": "ipython",
    "version": 3
   },
   "file_extension": ".py",
   "mimetype": "text/x-python",
   "name": "python",
   "nbconvert_exporter": "python",
   "pygments_lexer": "ipython3",
   "version": "3.7.4"
  }
 },
 "nbformat": 4,
 "nbformat_minor": 2
}
