{
 "cells": [
  {
   "cell_type": "code",
   "execution_count": 1,
   "metadata": {},
   "outputs": [
    {
     "name": "stdout",
     "output_type": "stream",
     "text": [
      "Index is 0, element is 1\n",
      "Index is 1, element is 2\n",
      "Index is 2, element is 3\n",
      "Index is 3, element is 4\n"
     ]
    }
   ],
   "source": [
    "lst = [1, 2, 3, 4]\n",
    "for i, el in enumerate(lst):\n",
    "    print('Index is ' + str(i) + ', element is ' + str(el))"
   ]
  },
  {
   "cell_type": "code",
   "execution_count": 2,
   "metadata": {},
   "outputs": [
    {
     "name": "stdout",
     "output_type": "stream",
     "text": [
      "<class 'zip'>\n",
      "zipped list:  [('Country', ['United States', 'Soviet Union', 'United Kingdom']), ('Total', [1118, 473, 273])]\n",
      "\n",
      "dictionary:  {'Country': ['United States', 'Soviet Union', 'United Kingdom'], 'Total': [1118, 473, 273]}\n"
     ]
    }
   ],
   "source": [
    "# Using zip methond\n",
    "keys = ['Country', 'Total']\n",
    "values = [['United States', 'Soviet Union', 'United Kingdom'], [1118, 473, 273]]\n",
    "\n",
    "# zip returns a generator, so if you want to use it, you have to wrap it with list\n",
    "zipped = zip(keys, values)\n",
    "print(type(zipped))\n",
    "zipped = list(zipped)\n",
    "print('zipped list: ', zipped)\n",
    "print()\n",
    "\n",
    "dictionary = dict(list(zipped))\n",
    "print('dictionary: ', dictionary)"
   ]
  },
  {
   "cell_type": "code",
   "execution_count": 3,
   "metadata": {},
   "outputs": [
    {
     "name": "stdout",
     "output_type": "stream",
     "text": [
      "<class 'NoneType'>\n",
      "<class 'type'>\n"
     ]
    }
   ],
   "source": [
    "print(type(None))\n",
    "print(type(type('')))"
   ]
  },
  {
   "cell_type": "markdown",
   "metadata": {},
   "source": [
    "# OOP"
   ]
  },
  {
   "cell_type": "code",
   "execution_count": 4,
   "metadata": {},
   "outputs": [
    {
     "name": "stdout",
     "output_type": "stream",
     "text": [
      "I am a customer Karl\n",
      "Hi from classmethod!\n",
      "<__main__.Customer object at 0x7fc8641bf610>\n"
     ]
    }
   ],
   "source": [
    "class Customer(object):\n",
    "    \n",
    "    MIN_SALARY = 500\n",
    "    \n",
    "    @classmethod\n",
    "    def static_like_in_java(cls):\n",
    "        \"\"\"\n",
    "        cls - refers to the class\n",
    "        \"\"\"\n",
    "        print('Hi from classmethod!')\n",
    "        return cls('Defaul Name', 9999) # alternative constructor\n",
    "    \n",
    "    def __init__(self, name, salary=0):\n",
    "        object.__init__(self) # call to a super class's contructor\n",
    "        self.name = name\n",
    "        if salary < Customer.MIN_SALARY:\n",
    "            salary = Customer.MIN_SALARY\n",
    "        self.salary = salary\n",
    "    \n",
    "    def identify(self):\n",
    "        print('I am a customer', self.name)\n",
    "\n",
    "\n",
    "c1 = Customer('Karl')\n",
    "c1.identify()\n",
    "Customer.static_like_in_java()\n",
    "print(c1)"
   ]
  },
  {
   "cell_type": "code",
   "execution_count": 5,
   "metadata": {},
   "outputs": [
    {
     "name": "stdout",
     "output_type": "stream",
     "text": [
      "asdf\n",
      "500\n",
      "123\n"
     ]
    }
   ],
   "source": [
    "c1.new_field = 'asdf'\n",
    "print(c1.new_field)\n",
    "\n",
    "c1.MIN_SALARY = 123 # this will create a new instance field instead of modifying existing one\n",
    "print(Customer.MIN_SALARY)\n",
    "print(c1.MIN_SALARY)"
   ]
  },
  {
   "cell_type": "markdown",
   "metadata": {},
   "source": [
    "## Polimorphism\n",
    "Unlike in Java, Python allows do change argument list in subclasses when overriding a method.\n",
    "**Though it is highly recommended not to remove existent arguments and make new arguments optional!**"
   ]
  },
  {
   "cell_type": "code",
   "execution_count": 6,
   "metadata": {},
   "outputs": [
    {
     "name": "stdout",
     "output_type": "stream",
     "text": [
      "79550.0\n",
      "81610.0\n",
      "12000\n"
     ]
    }
   ],
   "source": [
    "class Employee:\n",
    "    def __init__(self, name, salary=30000):\n",
    "        self.name = name\n",
    "        self.salary = salary\n",
    "\n",
    "    def give_raise(self, amount):\n",
    "        self.salary += amount\n",
    "    \n",
    "    def _protected_method():\n",
    "        print('Hello from a protected method')\n",
    "        \n",
    "    def __private_method():\n",
    "        \"\"\"\n",
    "        You cannot override private method in subclasses. If you do, it will be simple shadowing\n",
    "        \"\"\"\n",
    "        print('Hello from a private method')\n",
    "\n",
    "\n",
    "class Manager(Employee):\n",
    "    def display(self):\n",
    "        print(\"Manager \", self.name)\n",
    "\n",
    "    def __init__(self, name, salary=50000, project=None):\n",
    "        Employee.__init__(self, name, salary)\n",
    "        self.project = project\n",
    "\n",
    "    # Add a give_raise method\n",
    "    def give_raise(self, amount, bonus=1.05):\n",
    "        Employee.give_raise(self, amount * bonus)\n",
    "    \n",
    "mngr = Manager(\"Ashta Dunbar\", 78500)\n",
    "mngr.give_raise(1000)\n",
    "print(mngr.salary)\n",
    "mngr.give_raise(2000, bonus=1.03)\n",
    "print(mngr.salary)\n",
    "\n",
    "emp = Manager('My Manager', 10000)\n",
    "emp.give_raise(1000, 2)\n",
    "print(emp.salary)"
   ]
  },
  {
   "cell_type": "code",
   "execution_count": 7,
   "metadata": {},
   "outputs": [],
   "source": [
    "class Tmp:\n",
    "    \n",
    "    def m1(self, a):\n",
    "        pass\n",
    "    \n",
    "    # Simply shadows first declaration. Overloading doesn't work in Python\n",
    "    def m1(self, a, b):\n",
    "        pass"
   ]
  },
  {
   "cell_type": "markdown",
   "metadata": {},
   "source": [
    "### Replacing self with different object\n",
    "Since in python self is defined as explicitly, you can change it with another object "
   ]
  },
  {
   "cell_type": "code",
   "execution_count": 8,
   "metadata": {},
   "outputs": [],
   "source": [
    "# Import pandas as pd\n",
    "import pandas as pd\n",
    "\n",
    "# Define LoggedDF inherited from pd.DataFrame and add the constructor\n",
    "class LoggedDF(pd.DataFrame):\n",
    "  \n",
    "    def __init__(self, *args, **kwargs):\n",
    "        pd.DataFrame.__init__(self, *args, **kwargs)\n",
    "        self.created_at = datetime.today()\n",
    "    \n",
    "    def to_csv(self, *args, **kwargs):\n",
    "        # Copy self to a temporary DataFrame\n",
    "        temp = self.copy()\n",
    "    \n",
    "        # Create a new column filled with self.created at\n",
    "        temp[\"created_at\"] = self.created_at\n",
    "    \n",
    "        # !!! Call pd.DataFrame.to_csv on temp with *args and **kwargs\n",
    "        pd.DataFrame.to_csv(temp, *args, **kwargs)\n",
    "        \n",
    "        # OR\n",
    "#         temp.to_csv(*args, **kwargs)"
   ]
  },
  {
   "cell_type": "markdown",
   "metadata": {},
   "source": [
    "### Gotchas"
   ]
  },
  {
   "cell_type": "markdown",
   "metadata": {},
   "source": [
    "* Python always calls the child's `__eq__` method when comparing a child object to a parent object."
   ]
  },
  {
   "cell_type": "code",
   "execution_count": 9,
   "metadata": {},
   "outputs": [
    {
     "name": "stdout",
     "output_type": "stream",
     "text": [
      "Child's __eq__() called\n"
     ]
    },
    {
     "data": {
      "text/plain": [
       "True"
      ]
     },
     "execution_count": 9,
     "metadata": {},
     "output_type": "execute_result"
    }
   ],
   "source": [
    "class Parent:\n",
    "    def __eq__(self, other):\n",
    "        print(\"Parent's __eq__() called\")\n",
    "        return True\n",
    "\n",
    "class Child(Parent):\n",
    "    def __eq__(self, other):\n",
    "        print(\"Child's __eq__() called\")\n",
    "        return True\n",
    "    \n",
    "p = Parent()\n",
    "c = Child()\n",
    "\n",
    "p == c "
   ]
  },
  {
   "cell_type": "markdown",
   "metadata": {},
   "source": [
    "* `__str__`- *string representation* shows how object look\n",
    "* `__repr__` - *reproducible representation* shows how to create an object. It's a fallback for print function when `__str__` is not implemented"
   ]
  },
  {
   "cell_type": "code",
   "execution_count": 10,
   "metadata": {},
   "outputs": [
    {
     "name": "stdout",
     "output_type": "stream",
     "text": [
      "[1 2 3]\n",
      "array([1, 2, 3])\n"
     ]
    }
   ],
   "source": [
    "import numpy as np\n",
    "\n",
    "print(np.array([1, 2, 3]).__str__())\n",
    "print(np.array([1, 2, 3]).__repr__())"
   ]
  },
  {
   "cell_type": "markdown",
   "metadata": {},
   "source": [
    "### Property decorator\n",
    "Methods kinda getters and setters in JavaScript that allow you to modify behaviour when you change or get a property directly\n",
    "\n",
    "to implement getters, setters, and deleters attribute have to be protected"
   ]
  },
  {
   "cell_type": "code",
   "execution_count": 11,
   "metadata": {},
   "outputs": [
    {
     "name": "stdout",
     "output_type": "stream",
     "text": [
      "ValueError is caught\n",
      "Salary attribute is deleted!\n",
      "Salary attribute is deleted!\n"
     ]
    }
   ],
   "source": [
    "class Employee:\n",
    "    def __init__(self, name, salary):\n",
    "        self.name = name\n",
    "        self._salary = salary\n",
    "    \n",
    "    @property\n",
    "    def salary(self):\n",
    "        \"\"\"\n",
    "        `getter` name have to be the same as property name!\n",
    "        \"\"\"\n",
    "        return self._salary\n",
    "    \n",
    "    @salary.setter\n",
    "    def salary(self, salary):\n",
    "        \"\"\"\n",
    "        `setter` name have to be the same as property name!\n",
    "        If you define only a getter, and won't define setter, property will be read only\n",
    "        \"\"\"\n",
    "        if salary < 0:\n",
    "            raise ValueError('Salary cannot be less than 0')\n",
    "        self._salary = salary\n",
    "        \n",
    "    @salary.deleter\n",
    "    def salary(self):\n",
    "        print('Salary attribute is deleted!')\n",
    "        \n",
    "    # Won't work, because name attr doen't start with undescore\n",
    "#     @name.deleter\n",
    "#     def name(self):\n",
    "#         print('Name attribute is deleted')\n",
    "        \n",
    "\n",
    "emp = Employee('Noob', 1000)\n",
    "try:\n",
    "    emp.salary = -1\n",
    "except ValueError:\n",
    "    print('ValueError is caught')\n",
    "\n",
    "# del is more explicit and efficient and delattr() allows dynamic attribute deleting.\n",
    "del emp.salary\n",
    "\n",
    "emp = Employee('Scorpion', 2000)\n",
    "delattr(emp, 'salary')"
   ]
  },
  {
   "cell_type": "code",
   "execution_count": null,
   "metadata": {},
   "outputs": [],
   "source": []
  }
 ],
 "metadata": {
  "kernelspec": {
   "display_name": "Python 3",
   "language": "python",
   "name": "python3"
  },
  "language_info": {
   "codemirror_mode": {
    "name": "ipython",
    "version": 3
   },
   "file_extension": ".py",
   "mimetype": "text/x-python",
   "name": "python",
   "nbconvert_exporter": "python",
   "pygments_lexer": "ipython3",
   "version": "3.7.4"
  }
 },
 "nbformat": 4,
 "nbformat_minor": 2
}
