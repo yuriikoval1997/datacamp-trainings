{
 "cells": [
  {
   "cell_type": "code",
   "execution_count": 1,
   "metadata": {},
   "outputs": [],
   "source": [
    "import numpy as np\n",
    "import pandas as pd\n",
    "\n",
    "from scipy.stats import iqr\n",
    "from scipy.stats import uniform\n",
    "\n",
    "import matplotlib.pyplot as plt\n",
    "import matplotlib.patches as mpatches"
   ]
  },
  {
   "cell_type": "markdown",
   "metadata": {},
   "source": [
    "# Types of data\n",
    "![types of data](screens/types_of_data.png)"
   ]
  },
  {
   "cell_type": "markdown",
   "metadata": {},
   "source": [
    "# Skewed data\n",
    "`mean` is always pulled in the direction of the skew\n",
    "![skew](screens/skewed.png)"
   ]
  },
  {
   "cell_type": "code",
   "execution_count": 2,
   "metadata": {},
   "outputs": [
    {
     "data": {
      "text/html": [
       "<div>\n",
       "<style scoped>\n",
       "    .dataframe tbody tr th:only-of-type {\n",
       "        vertical-align: middle;\n",
       "    }\n",
       "\n",
       "    .dataframe tbody tr th {\n",
       "        vertical-align: top;\n",
       "    }\n",
       "\n",
       "    .dataframe thead th {\n",
       "        text-align: right;\n",
       "    }\n",
       "</style>\n",
       "<table border=\"1\" class=\"dataframe\">\n",
       "  <thead>\n",
       "    <tr style=\"text-align: right;\">\n",
       "      <th></th>\n",
       "      <th>country</th>\n",
       "      <th>food_category</th>\n",
       "      <th>consumption</th>\n",
       "      <th>co2_emission</th>\n",
       "    </tr>\n",
       "  </thead>\n",
       "  <tbody>\n",
       "    <tr>\n",
       "      <th>1</th>\n",
       "      <td>Argentina</td>\n",
       "      <td>pork</td>\n",
       "      <td>10.51</td>\n",
       "      <td>37.20</td>\n",
       "    </tr>\n",
       "    <tr>\n",
       "      <th>2</th>\n",
       "      <td>Argentina</td>\n",
       "      <td>poultry</td>\n",
       "      <td>38.66</td>\n",
       "      <td>41.53</td>\n",
       "    </tr>\n",
       "    <tr>\n",
       "      <th>3</th>\n",
       "      <td>Argentina</td>\n",
       "      <td>beef</td>\n",
       "      <td>55.48</td>\n",
       "      <td>1712.00</td>\n",
       "    </tr>\n",
       "    <tr>\n",
       "      <th>4</th>\n",
       "      <td>Argentina</td>\n",
       "      <td>lamb_goat</td>\n",
       "      <td>1.56</td>\n",
       "      <td>54.63</td>\n",
       "    </tr>\n",
       "    <tr>\n",
       "      <th>5</th>\n",
       "      <td>Argentina</td>\n",
       "      <td>fish</td>\n",
       "      <td>4.36</td>\n",
       "      <td>6.96</td>\n",
       "    </tr>\n",
       "    <tr>\n",
       "      <th>...</th>\n",
       "      <td>...</td>\n",
       "      <td>...</td>\n",
       "      <td>...</td>\n",
       "      <td>...</td>\n",
       "    </tr>\n",
       "    <tr>\n",
       "      <th>1426</th>\n",
       "      <td>Bangladesh</td>\n",
       "      <td>dairy</td>\n",
       "      <td>21.91</td>\n",
       "      <td>31.21</td>\n",
       "    </tr>\n",
       "    <tr>\n",
       "      <th>1427</th>\n",
       "      <td>Bangladesh</td>\n",
       "      <td>wheat</td>\n",
       "      <td>17.47</td>\n",
       "      <td>3.33</td>\n",
       "    </tr>\n",
       "    <tr>\n",
       "      <th>1428</th>\n",
       "      <td>Bangladesh</td>\n",
       "      <td>rice</td>\n",
       "      <td>171.73</td>\n",
       "      <td>219.76</td>\n",
       "    </tr>\n",
       "    <tr>\n",
       "      <th>1429</th>\n",
       "      <td>Bangladesh</td>\n",
       "      <td>soybeans</td>\n",
       "      <td>0.61</td>\n",
       "      <td>0.27</td>\n",
       "    </tr>\n",
       "    <tr>\n",
       "      <th>1430</th>\n",
       "      <td>Bangladesh</td>\n",
       "      <td>nuts</td>\n",
       "      <td>0.72</td>\n",
       "      <td>1.27</td>\n",
       "    </tr>\n",
       "  </tbody>\n",
       "</table>\n",
       "<p>1430 rows × 4 columns</p>\n",
       "</div>"
      ],
      "text/plain": [
       "         country food_category  consumption  co2_emission\n",
       "1      Argentina          pork        10.51         37.20\n",
       "2      Argentina       poultry        38.66         41.53\n",
       "3      Argentina          beef        55.48       1712.00\n",
       "4      Argentina     lamb_goat         1.56         54.63\n",
       "5      Argentina          fish         4.36          6.96\n",
       "...          ...           ...          ...           ...\n",
       "1426  Bangladesh         dairy        21.91         31.21\n",
       "1427  Bangladesh         wheat        17.47          3.33\n",
       "1428  Bangladesh          rice       171.73        219.76\n",
       "1429  Bangladesh      soybeans         0.61          0.27\n",
       "1430  Bangladesh          nuts         0.72          1.27\n",
       "\n",
       "[1430 rows x 4 columns]"
      ]
     },
     "execution_count": 2,
     "metadata": {},
     "output_type": "execute_result"
    }
   ],
   "source": [
    "food_consumption = pd.read_csv('datasets/food_consumption.csv', index_col=0)\n",
    "food_consumption"
   ]
  },
  {
   "cell_type": "code",
   "execution_count": 3,
   "metadata": {},
   "outputs": [
    {
     "data": {
      "text/html": [
       "<div>\n",
       "<style scoped>\n",
       "    .dataframe tbody tr th:only-of-type {\n",
       "        vertical-align: middle;\n",
       "    }\n",
       "\n",
       "    .dataframe tbody tr th {\n",
       "        vertical-align: top;\n",
       "    }\n",
       "\n",
       "    .dataframe thead th {\n",
       "        text-align: right;\n",
       "    }\n",
       "</style>\n",
       "<table border=\"1\" class=\"dataframe\">\n",
       "  <thead>\n",
       "    <tr style=\"text-align: right;\">\n",
       "      <th></th>\n",
       "      <th>consumption</th>\n",
       "      <th>co2_emission</th>\n",
       "    </tr>\n",
       "  </thead>\n",
       "  <tbody>\n",
       "    <tr>\n",
       "      <th>mean</th>\n",
       "      <td>44.65</td>\n",
       "      <td>156.26</td>\n",
       "    </tr>\n",
       "    <tr>\n",
       "      <th>median</th>\n",
       "      <td>14.58</td>\n",
       "      <td>15.34</td>\n",
       "    </tr>\n",
       "  </tbody>\n",
       "</table>\n",
       "</div>"
      ],
      "text/plain": [
       "        consumption  co2_emission\n",
       "mean          44.65        156.26\n",
       "median        14.58         15.34"
      ]
     },
     "execution_count": 3,
     "metadata": {},
     "output_type": "execute_result"
    }
   ],
   "source": [
    "food_consumption[food_consumption['country'] == 'USA'].agg([np.mean, np.median])"
   ]
  },
  {
   "cell_type": "code",
   "execution_count": 4,
   "metadata": {},
   "outputs": [
    {
     "data": {
      "text/html": [
       "<div>\n",
       "<style scoped>\n",
       "    .dataframe tbody tr th:only-of-type {\n",
       "        vertical-align: middle;\n",
       "    }\n",
       "\n",
       "    .dataframe tbody tr th {\n",
       "        vertical-align: top;\n",
       "    }\n",
       "\n",
       "    .dataframe thead tr th {\n",
       "        text-align: left;\n",
       "    }\n",
       "\n",
       "    .dataframe thead tr:last-of-type th {\n",
       "        text-align: right;\n",
       "    }\n",
       "</style>\n",
       "<table border=\"1\" class=\"dataframe\">\n",
       "  <thead>\n",
       "    <tr>\n",
       "      <th></th>\n",
       "      <th colspan=\"2\" halign=\"left\">consumption</th>\n",
       "      <th colspan=\"2\" halign=\"left\">co2_emission</th>\n",
       "    </tr>\n",
       "    <tr>\n",
       "      <th></th>\n",
       "      <th>mean</th>\n",
       "      <th>median</th>\n",
       "      <th>mean</th>\n",
       "      <th>median</th>\n",
       "    </tr>\n",
       "    <tr>\n",
       "      <th>country</th>\n",
       "      <th></th>\n",
       "      <th></th>\n",
       "      <th></th>\n",
       "      <th></th>\n",
       "    </tr>\n",
       "  </thead>\n",
       "  <tbody>\n",
       "    <tr>\n",
       "      <th>Belgium</th>\n",
       "      <td>42.132727</td>\n",
       "      <td>12.59</td>\n",
       "      <td>100.19</td>\n",
       "      <td>21.34</td>\n",
       "    </tr>\n",
       "    <tr>\n",
       "      <th>USA</th>\n",
       "      <td>44.650000</td>\n",
       "      <td>14.58</td>\n",
       "      <td>156.26</td>\n",
       "      <td>15.34</td>\n",
       "    </tr>\n",
       "  </tbody>\n",
       "</table>\n",
       "</div>"
      ],
      "text/plain": [
       "        consumption        co2_emission       \n",
       "               mean median         mean median\n",
       "country                                       \n",
       "Belgium   42.132727  12.59       100.19  21.34\n",
       "USA       44.650000  14.58       156.26  15.34"
      ]
     },
     "execution_count": 4,
     "metadata": {},
     "output_type": "execute_result"
    }
   ],
   "source": [
    "food_consumption[(food_consumption['country'] == 'USA') | (food_consumption['country'] == 'Belgium')] \\\n",
    "    .groupby('country') \\\n",
    "    .agg([np.mean, np.median])"
   ]
  },
  {
   "cell_type": "code",
   "execution_count": 5,
   "metadata": {},
   "outputs": [
    {
     "data": {
      "text/html": [
       "<div>\n",
       "<style scoped>\n",
       "    .dataframe tbody tr th:only-of-type {\n",
       "        vertical-align: middle;\n",
       "    }\n",
       "\n",
       "    .dataframe tbody tr th {\n",
       "        vertical-align: top;\n",
       "    }\n",
       "\n",
       "    .dataframe thead tr th {\n",
       "        text-align: left;\n",
       "    }\n",
       "\n",
       "    .dataframe thead tr:last-of-type th {\n",
       "        text-align: right;\n",
       "    }\n",
       "</style>\n",
       "<table border=\"1\" class=\"dataframe\">\n",
       "  <thead>\n",
       "    <tr>\n",
       "      <th></th>\n",
       "      <th colspan=\"2\" halign=\"left\">mean</th>\n",
       "      <th colspan=\"2\" halign=\"left\">median</th>\n",
       "    </tr>\n",
       "    <tr>\n",
       "      <th></th>\n",
       "      <th>co2_emission</th>\n",
       "      <th>consumption</th>\n",
       "      <th>co2_emission</th>\n",
       "      <th>consumption</th>\n",
       "    </tr>\n",
       "    <tr>\n",
       "      <th>country</th>\n",
       "      <th></th>\n",
       "      <th></th>\n",
       "      <th></th>\n",
       "      <th></th>\n",
       "    </tr>\n",
       "  </thead>\n",
       "  <tbody>\n",
       "    <tr>\n",
       "      <th>Belgium</th>\n",
       "      <td>100.19</td>\n",
       "      <td>42.132727</td>\n",
       "      <td>21.34</td>\n",
       "      <td>12.59</td>\n",
       "    </tr>\n",
       "    <tr>\n",
       "      <th>USA</th>\n",
       "      <td>156.26</td>\n",
       "      <td>44.650000</td>\n",
       "      <td>15.34</td>\n",
       "      <td>14.58</td>\n",
       "    </tr>\n",
       "  </tbody>\n",
       "</table>\n",
       "</div>"
      ],
      "text/plain": [
       "                mean                   median            \n",
       "        co2_emission consumption co2_emission consumption\n",
       "country                                                  \n",
       "Belgium       100.19   42.132727        21.34       12.59\n",
       "USA           156.26   44.650000        15.34       14.58"
      ]
     },
     "execution_count": 5,
     "metadata": {},
     "output_type": "execute_result"
    }
   ],
   "source": [
    "food_consumption[(food_consumption['country'] == 'Belgium') | (food_consumption['country'] == 'USA')] \\\n",
    "    .pivot_table(index=['country'],\n",
    "                 aggfunc=[np.mean, np.median],\n",
    "                 values=['consumption', 'co2_emission'])"
   ]
  },
  {
   "cell_type": "code",
   "execution_count": 6,
   "metadata": {},
   "outputs": [
    {
     "data": {
      "text/html": [
       "<div>\n",
       "<style scoped>\n",
       "    .dataframe tbody tr th:only-of-type {\n",
       "        vertical-align: middle;\n",
       "    }\n",
       "\n",
       "    .dataframe tbody tr th {\n",
       "        vertical-align: top;\n",
       "    }\n",
       "\n",
       "    .dataframe thead tr th {\n",
       "        text-align: left;\n",
       "    }\n",
       "\n",
       "    .dataframe thead tr:last-of-type th {\n",
       "        text-align: right;\n",
       "    }\n",
       "</style>\n",
       "<table border=\"1\" class=\"dataframe\">\n",
       "  <thead>\n",
       "    <tr>\n",
       "      <th></th>\n",
       "      <th colspan=\"10\" halign=\"left\">mean</th>\n",
       "      <th>...</th>\n",
       "      <th colspan=\"10\" halign=\"left\">median</th>\n",
       "    </tr>\n",
       "    <tr>\n",
       "      <th></th>\n",
       "      <th colspan=\"10\" halign=\"left\">co2_emission</th>\n",
       "      <th>...</th>\n",
       "      <th colspan=\"10\" halign=\"left\">consumption</th>\n",
       "    </tr>\n",
       "    <tr>\n",
       "      <th>food_category</th>\n",
       "      <th>beef</th>\n",
       "      <th>dairy</th>\n",
       "      <th>eggs</th>\n",
       "      <th>fish</th>\n",
       "      <th>lamb_goat</th>\n",
       "      <th>nuts</th>\n",
       "      <th>pork</th>\n",
       "      <th>poultry</th>\n",
       "      <th>rice</th>\n",
       "      <th>soybeans</th>\n",
       "      <th>...</th>\n",
       "      <th>dairy</th>\n",
       "      <th>eggs</th>\n",
       "      <th>fish</th>\n",
       "      <th>lamb_goat</th>\n",
       "      <th>nuts</th>\n",
       "      <th>pork</th>\n",
       "      <th>poultry</th>\n",
       "      <th>rice</th>\n",
       "      <th>soybeans</th>\n",
       "      <th>wheat</th>\n",
       "    </tr>\n",
       "    <tr>\n",
       "      <th>country</th>\n",
       "      <th></th>\n",
       "      <th></th>\n",
       "      <th></th>\n",
       "      <th></th>\n",
       "      <th></th>\n",
       "      <th></th>\n",
       "      <th></th>\n",
       "      <th></th>\n",
       "      <th></th>\n",
       "      <th></th>\n",
       "      <th></th>\n",
       "      <th></th>\n",
       "      <th></th>\n",
       "      <th></th>\n",
       "      <th></th>\n",
       "      <th></th>\n",
       "      <th></th>\n",
       "      <th></th>\n",
       "      <th></th>\n",
       "      <th></th>\n",
       "      <th></th>\n",
       "    </tr>\n",
       "  </thead>\n",
       "  <tbody>\n",
       "    <tr>\n",
       "      <th>Belgium</th>\n",
       "      <td>482.31</td>\n",
       "      <td>336.43</td>\n",
       "      <td>11.57</td>\n",
       "      <td>30.29</td>\n",
       "      <td>46.23</td>\n",
       "      <td>12.96</td>\n",
       "      <td>136.80</td>\n",
       "      <td>13.11</td>\n",
       "      <td>11.02</td>\n",
       "      <td>0.03</td>\n",
       "      <td>...</td>\n",
       "      <td>236.19</td>\n",
       "      <td>12.59</td>\n",
       "      <td>18.97</td>\n",
       "      <td>1.32</td>\n",
       "      <td>7.32</td>\n",
       "      <td>38.65</td>\n",
       "      <td>12.20</td>\n",
       "      <td>8.61</td>\n",
       "      <td>0.07</td>\n",
       "      <td>111.91</td>\n",
       "    </tr>\n",
       "    <tr>\n",
       "      <th>USA</th>\n",
       "      <td>1118.29</td>\n",
       "      <td>362.78</td>\n",
       "      <td>13.39</td>\n",
       "      <td>19.72</td>\n",
       "      <td>15.06</td>\n",
       "      <td>13.91</td>\n",
       "      <td>97.83</td>\n",
       "      <td>53.72</td>\n",
       "      <td>8.80</td>\n",
       "      <td>0.02</td>\n",
       "      <td>...</td>\n",
       "      <td>254.69</td>\n",
       "      <td>14.58</td>\n",
       "      <td>12.35</td>\n",
       "      <td>0.43</td>\n",
       "      <td>7.86</td>\n",
       "      <td>27.64</td>\n",
       "      <td>50.01</td>\n",
       "      <td>6.88</td>\n",
       "      <td>0.04</td>\n",
       "      <td>80.43</td>\n",
       "    </tr>\n",
       "  </tbody>\n",
       "</table>\n",
       "<p>2 rows × 44 columns</p>\n",
       "</div>"
      ],
      "text/plain": [
       "                      mean                                                 \\\n",
       "              co2_emission                                                  \n",
       "food_category         beef   dairy   eggs   fish lamb_goat   nuts    pork   \n",
       "country                                                                     \n",
       "Belgium             482.31  336.43  11.57  30.29     46.23  12.96  136.80   \n",
       "USA                1118.29  362.78  13.39  19.72     15.06  13.91   97.83   \n",
       "\n",
       "                                       ...      median                \\\n",
       "                                       ... consumption                 \n",
       "food_category poultry   rice soybeans  ...       dairy   eggs   fish   \n",
       "country                                ...                             \n",
       "Belgium         13.11  11.02     0.03  ...      236.19  12.59  18.97   \n",
       "USA             53.72   8.80     0.02  ...      254.69  14.58  12.35   \n",
       "\n",
       "                                                                     \n",
       "                                                                     \n",
       "food_category lamb_goat  nuts   pork poultry  rice soybeans   wheat  \n",
       "country                                                              \n",
       "Belgium            1.32  7.32  38.65   12.20  8.61     0.07  111.91  \n",
       "USA                0.43  7.86  27.64   50.01  6.88     0.04   80.43  \n",
       "\n",
       "[2 rows x 44 columns]"
      ]
     },
     "execution_count": 6,
     "metadata": {},
     "output_type": "execute_result"
    }
   ],
   "source": [
    "food_consumption[(food_consumption['country'] == 'Belgium') | (food_consumption['country'] == 'USA')] \\\n",
    "    .pivot_table(index=['country'],\n",
    "                 aggfunc=[np.mean, np.median],\n",
    "                 values=['consumption', 'co2_emission'],\n",
    "                 columns=['food_category'])"
   ]
  },
  {
   "cell_type": "code",
   "execution_count": 7,
   "metadata": {},
   "outputs": [
    {
     "data": {
      "image/png": "[encoded data removed]",
      "text/plain": [
       "<Figure size 432x288 with 1 Axes>"
      ]
     },
     "metadata": {
      "needs_background": "light"
     },
     "output_type": "display_data"
    }
   ],
   "source": [
    "rice_consumption = food_consumption[food_consumption['food_category'] == 'rice']\n",
    "rice_consumption['co2_emission'].hist() # .plot(kind='hist') works as well\n",
    "\n",
    "plt.axvline(rice_consumption['co2_emission'].mean(), color='k')\n",
    "black_patch = mpatches.Patch(color='k', label='Mean')\n",
    "\n",
    "plt.axvline(rice_consumption['co2_emission'].median(), color='r')\n",
    "red_patch = mpatches.Patch(color='r', label='Median')\n",
    "\n",
    "plt.legend(handles=[black_patch, red_patch])\n",
    "plt.show()"
   ]
  },
  {
   "cell_type": "markdown",
   "metadata": {},
   "source": [
    "# Measures of spread"
   ]
  },
  {
   "cell_type": "markdown",
   "metadata": {},
   "source": [
    "## Variance"
   ]
  },
  {
   "cell_type": "code",
   "execution_count": 8,
   "metadata": {},
   "outputs": [
    {
     "data": {
      "text/plain": [
       "consumption      2481.837554\n",
       "co2_emission    23133.973639\n",
       "dtype: float64"
      ]
     },
     "execution_count": 8,
     "metadata": {},
     "output_type": "execute_result"
    }
   ],
   "source": [
    "# ddof - “Delta Degrees of Freedom\", by default = 0. That's for whole pupulation, so DO NOT forget to set ddof=1\n",
    "np.var(food_consumption[['consumption', 'co2_emission']], ddof=1)"
   ]
  },
  {
   "cell_type": "code",
   "execution_count": 9,
   "metadata": {},
   "outputs": [
    {
     "data": {
      "text/plain": [
       "consumption     True\n",
       "co2_emission    True\n",
       "dtype: bool"
      ]
     },
     "execution_count": 9,
     "metadata": {},
     "output_type": "execute_result"
    }
   ],
   "source": [
    "def my_variance(data: np.array, ddof=1, axis=0) -> np.array:\n",
    "    squareDiff = (data - data.mean()) ** 2\n",
    "    sumOfDiffs = np.sum(squareDiff)\n",
    "    return sumOfDiffs / (data.shape[axis] - ddof)\n",
    "\n",
    "\n",
    "my_variance(food_consumption[['consumption', 'co2_emission']]) \\\n",
    "    == np.var(food_consumption[['consumption', 'co2_emission']], ddof=1)"
   ]
  },
  {
   "cell_type": "markdown",
   "metadata": {},
   "source": [
    "## Standard deviation (SD, STD)"
   ]
  },
  {
   "cell_type": "code",
   "execution_count": 10,
   "metadata": {},
   "outputs": [
    {
     "data": {
      "text/plain": [
       "consumption     True\n",
       "co2_emission    True\n",
       "dtype: bool"
      ]
     },
     "execution_count": 10,
     "metadata": {},
     "output_type": "execute_result"
    }
   ],
   "source": [
    "def my_std(data: np.array, ddof=1, axis=0) -> np.array:\n",
    "    return np.sqrt(my_variance(data, ddof, axis))\n",
    "\n",
    "\n",
    "my_std(food_consumption[['consumption', 'co2_emission']]) \\\n",
    "    == np.std(food_consumption[['consumption', 'co2_emission']], ddof=1)"
   ]
  },
  {
   "cell_type": "markdown",
   "metadata": {},
   "source": [
    "## Mean Absolute Deviation (MAD)"
   ]
  },
  {
   "cell_type": "code",
   "execution_count": 11,
   "metadata": {},
   "outputs": [
    {
     "data": {
      "text/plain": [
       "consumption     30.889104\n",
       "co2_emission    89.744317\n",
       "dtype: float64"
      ]
     },
     "execution_count": 11,
     "metadata": {},
     "output_type": "execute_result"
    }
   ],
   "source": [
    "def my_mad(data: np.array, ddof=1, axis=0) -> np.array:\n",
    "    absoluteDiff = np.abs(data - data.mean())\n",
    "    sumOfAbsoluteDiff = np.sum(absoluteDiff)\n",
    "    return sumOfAbsoluteDiff / (data.shape[axis] - ddof)\n",
    "\n",
    "\n",
    "my_mad(food_consumption[['consumption', 'co2_emission']])"
   ]
  },
  {
   "cell_type": "markdown",
   "metadata": {},
   "source": [
    "## Interquartile Range (IQR)"
   ]
  },
  {
   "cell_type": "markdown",
   "metadata": {},
   "source": [
    "![IQR](screens/IQR.png)"
   ]
  },
  {
   "cell_type": "code",
   "execution_count": 12,
   "metadata": {},
   "outputs": [
    {
     "data": {
      "text/plain": [
       "True"
      ]
     },
     "execution_count": 12,
     "metadata": {},
     "output_type": "execute_result"
    }
   ],
   "source": [
    "def my_iqr(data: np.array) -> np.array:\n",
    "    return np.quantile(data, 0.75) - np.quantile(data, 0.25)\n",
    "\n",
    "\n",
    "my_iqr(food_consumption[['consumption']]) \\\n",
    "    == iqr(food_consumption[['consumption']])"
   ]
  },
  {
   "cell_type": "code",
   "execution_count": 13,
   "metadata": {},
   "outputs": [
    {
     "data": {
      "text/plain": [
       "array([   0.    ,    5.21  ,   16.53  ,   62.5975, 1712.    ])"
      ]
     },
     "execution_count": 13,
     "metadata": {},
     "output_type": "execute_result"
    }
   ],
   "source": [
    "np.quantile(food_consumption['co2_emission'], np.linspace(0, 1, 5))"
   ]
  },
  {
   "cell_type": "markdown",
   "metadata": {},
   "source": [
    "### Outlier"
   ]
  },
  {
   "cell_type": "code",
   "execution_count": 14,
   "metadata": {},
   "outputs": [
    {
     "data": {
      "text/plain": [
       "country\n",
       "Argentina    2172.4\n",
       "Name: co2_emission, dtype: float64"
      ]
     },
     "execution_count": 14,
     "metadata": {},
     "output_type": "execute_result"
    }
   ],
   "source": [
    "emissions_by_country = food_consumption.groupby('country')['co2_emission'].sum()\n",
    "\n",
    "q1 = np.quantile(emissions_by_country, 0.25)\n",
    "q3 = np.quantile(emissions_by_country, 0.75)\n",
    "iqr = q3 - q1\n",
    "\n",
    "lower = q1 - 1.5 * iqr\n",
    "upper = q3 + 1.5 * iqr\n",
    "\n",
    "outliers = emissions_by_country[(emissions_by_country < lower) | (emissions_by_country > upper)]\n",
    "outliers"
   ]
  },
  {
   "cell_type": "markdown",
   "metadata": {},
   "source": [
    "# Random Numbers and Probability"
   ]
  },
  {
   "cell_type": "code",
   "execution_count": 15,
   "metadata": {},
   "outputs": [
    {
     "data": {
      "text/html": [
       "<div>\n",
       "<style scoped>\n",
       "    .dataframe tbody tr th:only-of-type {\n",
       "        vertical-align: middle;\n",
       "    }\n",
       "\n",
       "    .dataframe tbody tr th {\n",
       "        vertical-align: top;\n",
       "    }\n",
       "\n",
       "    .dataframe thead th {\n",
       "        text-align: right;\n",
       "    }\n",
       "</style>\n",
       "<table border=\"1\" class=\"dataframe\">\n",
       "  <thead>\n",
       "    <tr style=\"text-align: right;\">\n",
       "      <th></th>\n",
       "      <th>product</th>\n",
       "      <th>client</th>\n",
       "      <th>status</th>\n",
       "      <th>amount</th>\n",
       "      <th>num_users</th>\n",
       "    </tr>\n",
       "  </thead>\n",
       "  <tbody>\n",
       "    <tr>\n",
       "      <th>1</th>\n",
       "      <td>Product F</td>\n",
       "      <td>Current</td>\n",
       "      <td>Won</td>\n",
       "      <td>7389.52</td>\n",
       "      <td>19</td>\n",
       "    </tr>\n",
       "    <tr>\n",
       "      <th>2</th>\n",
       "      <td>Product C</td>\n",
       "      <td>New</td>\n",
       "      <td>Won</td>\n",
       "      <td>4493.01</td>\n",
       "      <td>43</td>\n",
       "    </tr>\n",
       "    <tr>\n",
       "      <th>3</th>\n",
       "      <td>Product B</td>\n",
       "      <td>New</td>\n",
       "      <td>Won</td>\n",
       "      <td>5738.09</td>\n",
       "      <td>87</td>\n",
       "    </tr>\n",
       "    <tr>\n",
       "      <th>4</th>\n",
       "      <td>Product I</td>\n",
       "      <td>Current</td>\n",
       "      <td>Won</td>\n",
       "      <td>2591.24</td>\n",
       "      <td>83</td>\n",
       "    </tr>\n",
       "    <tr>\n",
       "      <th>5</th>\n",
       "      <td>Product E</td>\n",
       "      <td>Current</td>\n",
       "      <td>Won</td>\n",
       "      <td>6622.97</td>\n",
       "      <td>17</td>\n",
       "    </tr>\n",
       "    <tr>\n",
       "      <th>...</th>\n",
       "      <td>...</td>\n",
       "      <td>...</td>\n",
       "      <td>...</td>\n",
       "      <td>...</td>\n",
       "      <td>...</td>\n",
       "    </tr>\n",
       "    <tr>\n",
       "      <th>174</th>\n",
       "      <td>Product A</td>\n",
       "      <td>Current</td>\n",
       "      <td>Lost</td>\n",
       "      <td>5835.32</td>\n",
       "      <td>23</td>\n",
       "    </tr>\n",
       "    <tr>\n",
       "      <th>175</th>\n",
       "      <td>Product D</td>\n",
       "      <td>Current</td>\n",
       "      <td>Won</td>\n",
       "      <td>6377.50</td>\n",
       "      <td>12</td>\n",
       "    </tr>\n",
       "    <tr>\n",
       "      <th>176</th>\n",
       "      <td>Product D</td>\n",
       "      <td>Current</td>\n",
       "      <td>Won</td>\n",
       "      <td>3537.61</td>\n",
       "      <td>28</td>\n",
       "    </tr>\n",
       "    <tr>\n",
       "      <th>177</th>\n",
       "      <td>Product A</td>\n",
       "      <td>Current</td>\n",
       "      <td>Won</td>\n",
       "      <td>6448.07</td>\n",
       "      <td>34</td>\n",
       "    </tr>\n",
       "    <tr>\n",
       "      <th>178</th>\n",
       "      <td>Product D</td>\n",
       "      <td>New</td>\n",
       "      <td>Lost</td>\n",
       "      <td>7320.05</td>\n",
       "      <td>72</td>\n",
       "    </tr>\n",
       "  </tbody>\n",
       "</table>\n",
       "<p>178 rows × 5 columns</p>\n",
       "</div>"
      ],
      "text/plain": [
       "       product   client status   amount  num_users\n",
       "1    Product F  Current    Won  7389.52         19\n",
       "2    Product C      New    Won  4493.01         43\n",
       "3    Product B      New    Won  5738.09         87\n",
       "4    Product I  Current    Won  2591.24         83\n",
       "5    Product E  Current    Won  6622.97         17\n",
       "..         ...      ...    ...      ...        ...\n",
       "174  Product A  Current   Lost  5835.32         23\n",
       "175  Product D  Current    Won  6377.50         12\n",
       "176  Product D  Current    Won  3537.61         28\n",
       "177  Product A  Current    Won  6448.07         34\n",
       "178  Product D      New   Lost  7320.05         72\n",
       "\n",
       "[178 rows x 5 columns]"
      ]
     },
     "execution_count": 15,
     "metadata": {},
     "output_type": "execute_result"
    }
   ],
   "source": [
    "amir_deals = pd.read_csv('datasets/amir_deals.csv', index_col=0)\n",
    "amir_deals"
   ]
  },
  {
   "cell_type": "code",
   "execution_count": 16,
   "metadata": {},
   "outputs": [
    {
     "data": {
      "text/plain": [
       "Product B    62\n",
       "Product D    40\n",
       "Product A    23\n",
       "Product C    15\n",
       "Product F    11\n",
       "Product H     8\n",
       "Product I     7\n",
       "Product E     5\n",
       "Product N     3\n",
       "Product G     2\n",
       "Product J     2\n",
       "Name: product, dtype: int64"
      ]
     },
     "execution_count": 16,
     "metadata": {},
     "output_type": "execute_result"
    }
   ],
   "source": [
    "product_counts = amir_deals['product'].value_counts()\n",
    "product_counts"
   ]
  },
  {
   "cell_type": "markdown",
   "metadata": {},
   "source": [
    "## Sample without replacement"
   ]
  },
  {
   "cell_type": "code",
   "execution_count": 17,
   "metadata": {},
   "outputs": [
    {
     "data": {
      "text/html": [
       "<div>\n",
       "<style scoped>\n",
       "    .dataframe tbody tr th:only-of-type {\n",
       "        vertical-align: middle;\n",
       "    }\n",
       "\n",
       "    .dataframe tbody tr th {\n",
       "        vertical-align: top;\n",
       "    }\n",
       "\n",
       "    .dataframe thead th {\n",
       "        text-align: right;\n",
       "    }\n",
       "</style>\n",
       "<table border=\"1\" class=\"dataframe\">\n",
       "  <thead>\n",
       "    <tr style=\"text-align: right;\">\n",
       "      <th></th>\n",
       "      <th>product</th>\n",
       "      <th>client</th>\n",
       "      <th>status</th>\n",
       "      <th>amount</th>\n",
       "      <th>num_users</th>\n",
       "    </tr>\n",
       "  </thead>\n",
       "  <tbody>\n",
       "    <tr>\n",
       "      <th>128</th>\n",
       "      <td>Product B</td>\n",
       "      <td>Current</td>\n",
       "      <td>Won</td>\n",
       "      <td>2070.25</td>\n",
       "      <td>7</td>\n",
       "    </tr>\n",
       "    <tr>\n",
       "      <th>149</th>\n",
       "      <td>Product D</td>\n",
       "      <td>Current</td>\n",
       "      <td>Won</td>\n",
       "      <td>3485.48</td>\n",
       "      <td>52</td>\n",
       "    </tr>\n",
       "    <tr>\n",
       "      <th>78</th>\n",
       "      <td>Product B</td>\n",
       "      <td>Current</td>\n",
       "      <td>Won</td>\n",
       "      <td>6252.30</td>\n",
       "      <td>27</td>\n",
       "    </tr>\n",
       "    <tr>\n",
       "      <th>105</th>\n",
       "      <td>Product D</td>\n",
       "      <td>Current</td>\n",
       "      <td>Won</td>\n",
       "      <td>4110.98</td>\n",
       "      <td>39</td>\n",
       "    </tr>\n",
       "    <tr>\n",
       "      <th>167</th>\n",
       "      <td>Product C</td>\n",
       "      <td>New</td>\n",
       "      <td>Lost</td>\n",
       "      <td>3779.86</td>\n",
       "      <td>11</td>\n",
       "    </tr>\n",
       "  </tbody>\n",
       "</table>\n",
       "</div>"
      ],
      "text/plain": [
       "       product   client status   amount  num_users\n",
       "128  Product B  Current    Won  2070.25          7\n",
       "149  Product D  Current    Won  3485.48         52\n",
       "78   Product B  Current    Won  6252.30         27\n",
       "105  Product D  Current    Won  4110.98         39\n",
       "167  Product C      New   Lost  3779.86         11"
      ]
     },
     "execution_count": 17,
     "metadata": {},
     "output_type": "execute_result"
    }
   ],
   "source": [
    "np.random.seed(24)\n",
    "sample_without_replacement = amir_deals.sample(5, replace=False)\n",
    "sample_without_replacement"
   ]
  },
  {
   "cell_type": "markdown",
   "metadata": {},
   "source": [
    "## Sample with replacement"
   ]
  },
  {
   "cell_type": "code",
   "execution_count": 18,
   "metadata": {},
   "outputs": [
    {
     "data": {
      "text/html": [
       "<div>\n",
       "<style scoped>\n",
       "    .dataframe tbody tr th:only-of-type {\n",
       "        vertical-align: middle;\n",
       "    }\n",
       "\n",
       "    .dataframe tbody tr th {\n",
       "        vertical-align: top;\n",
       "    }\n",
       "\n",
       "    .dataframe thead th {\n",
       "        text-align: right;\n",
       "    }\n",
       "</style>\n",
       "<table border=\"1\" class=\"dataframe\">\n",
       "  <thead>\n",
       "    <tr style=\"text-align: right;\">\n",
       "      <th></th>\n",
       "      <th>product</th>\n",
       "      <th>client</th>\n",
       "      <th>status</th>\n",
       "      <th>amount</th>\n",
       "      <th>num_users</th>\n",
       "    </tr>\n",
       "  </thead>\n",
       "  <tbody>\n",
       "    <tr>\n",
       "      <th>163</th>\n",
       "      <td>Product D</td>\n",
       "      <td>Current</td>\n",
       "      <td>Won</td>\n",
       "      <td>6755.66</td>\n",
       "      <td>59</td>\n",
       "    </tr>\n",
       "    <tr>\n",
       "      <th>132</th>\n",
       "      <td>Product B</td>\n",
       "      <td>Current</td>\n",
       "      <td>Won</td>\n",
       "      <td>6872.29</td>\n",
       "      <td>25</td>\n",
       "    </tr>\n",
       "    <tr>\n",
       "      <th>88</th>\n",
       "      <td>Product C</td>\n",
       "      <td>Current</td>\n",
       "      <td>Won</td>\n",
       "      <td>3579.63</td>\n",
       "      <td>3</td>\n",
       "    </tr>\n",
       "    <tr>\n",
       "      <th>146</th>\n",
       "      <td>Product A</td>\n",
       "      <td>Current</td>\n",
       "      <td>Won</td>\n",
       "      <td>4682.94</td>\n",
       "      <td>63</td>\n",
       "    </tr>\n",
       "    <tr>\n",
       "      <th>146</th>\n",
       "      <td>Product A</td>\n",
       "      <td>Current</td>\n",
       "      <td>Won</td>\n",
       "      <td>4682.94</td>\n",
       "      <td>63</td>\n",
       "    </tr>\n",
       "  </tbody>\n",
       "</table>\n",
       "</div>"
      ],
      "text/plain": [
       "       product   client status   amount  num_users\n",
       "163  Product D  Current    Won  6755.66         59\n",
       "132  Product B  Current    Won  6872.29         25\n",
       "88   Product C  Current    Won  3579.63          3\n",
       "146  Product A  Current    Won  4682.94         63\n",
       "146  Product A  Current    Won  4682.94         63"
      ]
     },
     "execution_count": 18,
     "metadata": {},
     "output_type": "execute_result"
    }
   ],
   "source": [
    "np.random.seed(24)\n",
    "sample_with_replacement = amir_deals.sample(5, replace=True)\n",
    "sample_with_replacement"
   ]
  },
  {
   "cell_type": "markdown",
   "metadata": {},
   "source": [
    "# Distributions"
   ]
  },
  {
   "cell_type": "markdown",
   "metadata": {},
   "source": [
    "### Uniform distribution\n",
    "Bus drives to the stop every 12th minute. What it the probability of waiting for the bus between 4 and 7 minutes?\n",
    "![uniform_distribution](screens/uniform_distribution.png)"
   ]
  },
  {
   "cell_type": "code",
   "execution_count": 19,
   "metadata": {},
   "outputs": [
    {
     "data": {
      "text/plain": [
       "0.25000000000000006"
      ]
     },
     "execution_count": 19,
     "metadata": {},
     "output_type": "execute_result"
    }
   ],
   "source": [
    "# Cumulative distribution function\n",
    "wait_for_leq_7_minutes = uniform.cdf(7, \n",
    "                                 0, # lower limit\n",
    "                                 12 # upper limit\n",
    "                                ) \n",
    "wait_for_leq_4_minutes = uniform.cdf(4, 0, 12)\n",
    "\n",
    "# The probability of waiting between 4 and 7 minutes\n",
    "wait_for_leq_7_minutes - wait_for_leq_4_minutes"
   ]
  },
  {
   "cell_type": "code",
   "execution_count": 20,
   "metadata": {},
   "outputs": [
    {
     "name": "stdout",
     "output_type": "stream",
     "text": [
      "(1 - cdf): 0.41666666666666663\n",
      "sf: 0.41666666666666663\n"
     ]
    }
   ],
   "source": [
    "# The probalility of waiting more then 7 minutes\n",
    "wait_for_gt_7_minutes = 1 - wait_for_leq_7_minutes\n",
    "\n",
    "# Survival function (also defined as 1 - cdf, but sf is sometimes more accurate).\n",
    "wait_for_gt_7_minutes_sf = uniform.sf(7, 0, 12)\n",
    "print('(1 - cdf):', wait_for_gt_7_minutes)\n",
    "print('sf:', wait_for_gt_7_minutes_sf)"
   ]
  },
  {
   "cell_type": "markdown",
   "metadata": {},
   "source": [
    "#### Generate uniform distribution"
   ]
  },
  {
   "cell_type": "code",
   "execution_count": 21,
   "metadata": {},
   "outputs": [],
   "source": [
    "# Random variates\n",
    "random_uniform = uniform.rvs(0, # upper bound\n",
    "                             5, # lower bound \n",
    "                             size=1000)"
   ]
  },
  {
   "cell_type": "code",
   "execution_count": 22,
   "metadata": {},
   "outputs": [
    {
     "data": {
      "image/png": "[encoded data removed]",
      "text/plain": [
       "<Figure size 432x288 with 1 Axes>"
      ]
     },
     "metadata": {
      "needs_background": "light"
     },
     "output_type": "display_data"
    }
   ],
   "source": [
    "plt.hist(random_uniform, bins=range(0, 6))\n",
    "plt.show()"
   ]
  },
  {
   "cell_type": "code",
   "execution_count": null,
   "metadata": {},
   "outputs": [],
   "source": []
  }
 ],
 "metadata": {
  "kernelspec": {
   "display_name": "Python 3",
   "language": "python",
   "name": "python3"
  },
  "language_info": {
   "codemirror_mode": {
    "name": "ipython",
    "version": 3
   },
   "file_extension": ".py",
   "mimetype": "text/x-python",
   "name": "python",
   "nbconvert_exporter": "python",
   "pygments_lexer": "ipython3",
   "version": "3.7.4"
  }
 },
 "nbformat": 4,
 "nbformat_minor": 2
}
